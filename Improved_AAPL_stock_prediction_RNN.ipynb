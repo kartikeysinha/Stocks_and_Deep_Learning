{
  "nbformat": 4,
  "nbformat_minor": 0,
  "metadata": {
    "colab": {
      "name": "Improved_AAPL_stock_prediction_RNN.ipynb",
      "provenance": [],
      "collapsed_sections": [],
      "toc_visible": true
    },
    "kernelspec": {
      "name": "python3",
      "display_name": "Python 3"
    }
  },
  "cells": [
    {
      "cell_type": "markdown",
      "metadata": {
        "id": "37puETfgRzzg",
        "colab_type": "text"
      },
      "source": [
        "# Data Preprocessing"
      ]
    },
    {
      "cell_type": "markdown",
      "metadata": {
        "id": "EoRP98MpR-qj",
        "colab_type": "text"
      },
      "source": [
        "## Importing the libraries"
      ]
    },
    {
      "cell_type": "code",
      "metadata": {
        "id": "8UxKVijKwduh",
        "colab_type": "code",
        "colab": {}
      },
      "source": [
        "import numpy as np\n",
        "import pandas as pd\n",
        "import matplotlib.pyplot as plt"
      ],
      "execution_count": 1,
      "outputs": []
    },
    {
      "cell_type": "markdown",
      "metadata": {
        "id": "RopL7tUZSQkT",
        "colab_type": "text"
      },
      "source": [
        "## Importing the dataset"
      ]
    },
    {
      "cell_type": "markdown",
      "metadata": {
        "id": "bBOpDiAHwvws",
        "colab_type": "text"
      },
      "source": [
        "###Install yahoo finance library"
      ]
    },
    {
      "cell_type": "code",
      "metadata": {
        "id": "P3ldeUbbwlii",
        "colab_type": "code",
        "colab": {
          "base_uri": "https://localhost:8080/",
          "height": 377
        },
        "outputId": "6a8cabeb-804d-47de-e8af-dc6bbbc41aee"
      },
      "source": [
        "!pip install yfinance"
      ],
      "execution_count": 2,
      "outputs": [
        {
          "output_type": "stream",
          "text": [
            "Collecting yfinance\n",
            "  Downloading https://files.pythonhosted.org/packages/c2/31/8b374a12b90def92a4e27d0fc595fc43635f395984e36a075244d98bd265/yfinance-0.1.54.tar.gz\n",
            "Requirement already satisfied: pandas>=0.24 in /usr/local/lib/python3.6/dist-packages (from yfinance) (1.0.5)\n",
            "Requirement already satisfied: numpy>=1.15 in /usr/local/lib/python3.6/dist-packages (from yfinance) (1.18.5)\n",
            "Requirement already satisfied: requests>=2.20 in /usr/local/lib/python3.6/dist-packages (from yfinance) (2.23.0)\n",
            "Requirement already satisfied: multitasking>=0.0.7 in /usr/local/lib/python3.6/dist-packages (from yfinance) (0.0.9)\n",
            "Requirement already satisfied: python-dateutil>=2.6.1 in /usr/local/lib/python3.6/dist-packages (from pandas>=0.24->yfinance) (2.8.1)\n",
            "Requirement already satisfied: pytz>=2017.2 in /usr/local/lib/python3.6/dist-packages (from pandas>=0.24->yfinance) (2018.9)\n",
            "Requirement already satisfied: chardet<4,>=3.0.2 in /usr/local/lib/python3.6/dist-packages (from requests>=2.20->yfinance) (3.0.4)\n",
            "Requirement already satisfied: certifi>=2017.4.17 in /usr/local/lib/python3.6/dist-packages (from requests>=2.20->yfinance) (2020.6.20)\n",
            "Requirement already satisfied: urllib3!=1.25.0,!=1.25.1,<1.26,>=1.21.1 in /usr/local/lib/python3.6/dist-packages (from requests>=2.20->yfinance) (1.24.3)\n",
            "Requirement already satisfied: idna<3,>=2.5 in /usr/local/lib/python3.6/dist-packages (from requests>=2.20->yfinance) (2.10)\n",
            "Requirement already satisfied: six>=1.5 in /usr/local/lib/python3.6/dist-packages (from python-dateutil>=2.6.1->pandas>=0.24->yfinance) (1.15.0)\n",
            "Building wheels for collected packages: yfinance\n",
            "  Building wheel for yfinance (setup.py) ... \u001b[?25l\u001b[?25hdone\n",
            "  Created wheel for yfinance: filename=yfinance-0.1.54-py2.py3-none-any.whl size=22409 sha256=4e389bdf0a8bc451fad83e2b336014f9f11b40d25cbddcec2fecc51d7509bea5\n",
            "  Stored in directory: /root/.cache/pip/wheels/f9/e3/5b/ec24dd2984b12d61e0abf26289746c2436a0e7844f26f2515c\n",
            "Successfully built yfinance\n",
            "Installing collected packages: yfinance\n",
            "Successfully installed yfinance-0.1.54\n"
          ],
          "name": "stdout"
        }
      ]
    },
    {
      "cell_type": "markdown",
      "metadata": {
        "id": "TewvgPjPxPou",
        "colab_type": "text"
      },
      "source": [
        "### Import dataset from yahoo finance"
      ]
    },
    {
      "cell_type": "code",
      "metadata": {
        "id": "JKy1V3ByxWGs",
        "colab_type": "code",
        "colab": {
          "base_uri": "https://localhost:8080/",
          "height": 34
        },
        "outputId": "909496c2-7e5c-4797-a671-fd0356635937"
      },
      "source": [
        "import yfinance as yf\n",
        "dataset = yf.download('AAPL', start='2010-01-01', end='2020-01-01')"
      ],
      "execution_count": 3,
      "outputs": [
        {
          "output_type": "stream",
          "text": [
            "\r[*********************100%***********************]  1 of 1 completed\n"
          ],
          "name": "stdout"
        }
      ]
    },
    {
      "cell_type": "code",
      "metadata": {
        "id": "p-aM7AXcySMW",
        "colab_type": "code",
        "colab": {
          "base_uri": "https://localhost:8080/",
          "height": 235
        },
        "outputId": "7349221e-287d-4eb7-9d82-84c044f99cc7"
      },
      "source": [
        "dataset.head()"
      ],
      "execution_count": 4,
      "outputs": [
        {
          "output_type": "execute_result",
          "data": {
            "text/html": [
              "<div>\n",
              "<style scoped>\n",
              "    .dataframe tbody tr th:only-of-type {\n",
              "        vertical-align: middle;\n",
              "    }\n",
              "\n",
              "    .dataframe tbody tr th {\n",
              "        vertical-align: top;\n",
              "    }\n",
              "\n",
              "    .dataframe thead th {\n",
              "        text-align: right;\n",
              "    }\n",
              "</style>\n",
              "<table border=\"1\" class=\"dataframe\">\n",
              "  <thead>\n",
              "    <tr style=\"text-align: right;\">\n",
              "      <th></th>\n",
              "      <th>Open</th>\n",
              "      <th>High</th>\n",
              "      <th>Low</th>\n",
              "      <th>Close</th>\n",
              "      <th>Adj Close</th>\n",
              "      <th>Volume</th>\n",
              "    </tr>\n",
              "    <tr>\n",
              "      <th>Date</th>\n",
              "      <th></th>\n",
              "      <th></th>\n",
              "      <th></th>\n",
              "      <th></th>\n",
              "      <th></th>\n",
              "      <th></th>\n",
              "    </tr>\n",
              "  </thead>\n",
              "  <tbody>\n",
              "    <tr>\n",
              "      <th>2010-01-04</th>\n",
              "      <td>7.622500</td>\n",
              "      <td>7.660714</td>\n",
              "      <td>7.585000</td>\n",
              "      <td>7.643214</td>\n",
              "      <td>6.604801</td>\n",
              "      <td>493729600</td>\n",
              "    </tr>\n",
              "    <tr>\n",
              "      <th>2010-01-05</th>\n",
              "      <td>7.664286</td>\n",
              "      <td>7.699643</td>\n",
              "      <td>7.616071</td>\n",
              "      <td>7.656428</td>\n",
              "      <td>6.616219</td>\n",
              "      <td>601904800</td>\n",
              "    </tr>\n",
              "    <tr>\n",
              "      <th>2010-01-06</th>\n",
              "      <td>7.656428</td>\n",
              "      <td>7.686786</td>\n",
              "      <td>7.526786</td>\n",
              "      <td>7.534643</td>\n",
              "      <td>6.510980</td>\n",
              "      <td>552160000</td>\n",
              "    </tr>\n",
              "    <tr>\n",
              "      <th>2010-01-07</th>\n",
              "      <td>7.562500</td>\n",
              "      <td>7.571429</td>\n",
              "      <td>7.466072</td>\n",
              "      <td>7.520714</td>\n",
              "      <td>6.498945</td>\n",
              "      <td>477131200</td>\n",
              "    </tr>\n",
              "    <tr>\n",
              "      <th>2010-01-08</th>\n",
              "      <td>7.510714</td>\n",
              "      <td>7.571429</td>\n",
              "      <td>7.466429</td>\n",
              "      <td>7.570714</td>\n",
              "      <td>6.542150</td>\n",
              "      <td>447610800</td>\n",
              "    </tr>\n",
              "  </tbody>\n",
              "</table>\n",
              "</div>"
            ],
            "text/plain": [
              "                Open      High       Low     Close  Adj Close     Volume\n",
              "Date                                                                    \n",
              "2010-01-04  7.622500  7.660714  7.585000  7.643214   6.604801  493729600\n",
              "2010-01-05  7.664286  7.699643  7.616071  7.656428   6.616219  601904800\n",
              "2010-01-06  7.656428  7.686786  7.526786  7.534643   6.510980  552160000\n",
              "2010-01-07  7.562500  7.571429  7.466072  7.520714   6.498945  477131200\n",
              "2010-01-08  7.510714  7.571429  7.466429  7.570714   6.542150  447610800"
            ]
          },
          "metadata": {
            "tags": []
          },
          "execution_count": 4
        }
      ]
    },
    {
      "cell_type": "markdown",
      "metadata": {
        "id": "sm1DAlg-90G3",
        "colab_type": "text"
      },
      "source": [
        "## Checking for Missing values"
      ]
    },
    {
      "cell_type": "code",
      "metadata": {
        "id": "VncCR1c1zaR8",
        "colab_type": "code",
        "colab": {
          "base_uri": "https://localhost:8080/",
          "height": 647
        },
        "outputId": "255eca52-9c11-4bca-db35-26f606ab3d6a"
      },
      "source": [
        "import missingno as msno\n",
        "msno.matrix(dataset)\n",
        "print('Data columns with null value(s): ', dataset.isnull().sum(), sep='\\n')"
      ],
      "execution_count": 5,
      "outputs": [
        {
          "output_type": "stream",
          "text": [
            "/usr/local/lib/python3.6/dist-packages/statsmodels/tools/_testing.py:19: FutureWarning: pandas.util.testing is deprecated. Use the functions in the public API at pandas.testing instead.\n",
            "  import pandas.util.testing as tm\n"
          ],
          "name": "stderr"
        },
        {
          "output_type": "stream",
          "text": [
            "Data columns with null value(s): \n",
            "Open         0\n",
            "High         0\n",
            "Low          0\n",
            "Close        0\n",
            "Adj Close    0\n",
            "Volume       0\n",
            "dtype: int64\n"
          ],
          "name": "stdout"
        },
        {
          "output_type": "display_data",
          "data": {
            "image/png": "[encoded data removed]",
            "text/plain": [
              "<Figure size 1800x720 with 2 Axes>"
            ]
          },
          "metadata": {
            "tags": [],
            "needs_background": "light"
          }
        }
      ]
    },
    {
      "cell_type": "markdown",
      "metadata": {
        "id": "SscHICX80bsw",
        "colab_type": "text"
      },
      "source": [
        "## New product release"
      ]
    },
    {
      "cell_type": "code",
      "metadata": {
        "id": "cvnkG2n2KtpD",
        "colab_type": "code",
        "colab": {}
      },
      "source": [
        "def get_date(datetime):\n",
        "  return str(pd.to_datetime(datetime).date())"
      ],
      "execution_count": 6,
      "outputs": []
    },
    {
      "cell_type": "code",
      "metadata": {
        "id": "7HZqjI8TLOqZ",
        "colab_type": "code",
        "colab": {}
      },
      "source": [
        "dates = []\n",
        "for i in range(len(dataset.index)):\n",
        "  dates.append(get_date(dataset.index.values[i]))"
      ],
      "execution_count": 7,
      "outputs": []
    },
    {
      "cell_type": "code",
      "metadata": {
        "id": "c0dfdlyv0fMV",
        "colab_type": "code",
        "colab": {}
      },
      "source": [
        "new_product = np.zeros(len(dataset.axes[0]))\n",
        "\n",
        "# The below dates only include iPhone, iPad, and Apple Watch releases.\n",
        "# Source: https://en.wikipedia.org/wiki/Timeline_of_Apple_Inc._products\n",
        "new_product_release_dates = ['2010-04-03', '2010-04-30', '2010-06-24', '2010-09-01',\n",
        "                             '2011-02-10', '2011-03-11', '2011-10-14',\n",
        "                             '2012-03-16', '2012-09-21', '2012-11-02', '2012-11-16',\n",
        "                             '2013-09-20', '2013-11-01', '2013-11-12',\n",
        "                             '2014-11-18', '2014-09-19', '2014-10-22',\n",
        "                             '2015-04-24', '2015-09-09', '2015-09-25', '2015-11-11',\n",
        "                             '2016-03-31', '2016-09-07', '2016-09-07', '2016-09-16', '2016-10-28', '2016-12-19',\n",
        "                             '2017-03-21', '2017-03-24', '2017-06-05', '2017-09-22', '2017-11-03',\n",
        "                             '2018-03-27', '2018-09-21', '2018-10-26', '2018-10-30', '2018-11-07',\n",
        "                             '2019-03-18', '2019-03-20', '2019-09-20', '2019-09-25', '2019-12-10']\n",
        "\n",
        "new_product_release_data_in_2020 = ['2020-03-18', '2020-04-24']\n",
        "\n",
        "for i in range(0,len(dataset.axes[0])):\n",
        "  if dates[i] in new_product_release_dates:\n",
        "    new_product[i] = 1"
      ],
      "execution_count": 8,
      "outputs": []
    },
    {
      "cell_type": "code",
      "metadata": {
        "id": "fFl09cYk0PkC",
        "colab_type": "code",
        "colab": {}
      },
      "source": [
        "dataset['new product'] = new_product"
      ],
      "execution_count": 9,
      "outputs": []
    },
    {
      "cell_type": "code",
      "metadata": {
        "id": "NiukVL9VxTmW",
        "colab_type": "code",
        "colab": {
          "base_uri": "https://localhost:8080/",
          "height": 235
        },
        "outputId": "aeb70939-c98f-465a-c467-3976ae7b2ddc"
      },
      "source": [
        "dataset.head()"
      ],
      "execution_count": 10,
      "outputs": [
        {
          "output_type": "execute_result",
          "data": {
            "text/html": [
              "<div>\n",
              "<style scoped>\n",
              "    .dataframe tbody tr th:only-of-type {\n",
              "        vertical-align: middle;\n",
              "    }\n",
              "\n",
              "    .dataframe tbody tr th {\n",
              "        vertical-align: top;\n",
              "    }\n",
              "\n",
              "    .dataframe thead th {\n",
              "        text-align: right;\n",
              "    }\n",
              "</style>\n",
              "<table border=\"1\" class=\"dataframe\">\n",
              "  <thead>\n",
              "    <tr style=\"text-align: right;\">\n",
              "      <th></th>\n",
              "      <th>Open</th>\n",
              "      <th>High</th>\n",
              "      <th>Low</th>\n",
              "      <th>Close</th>\n",
              "      <th>Adj Close</th>\n",
              "      <th>Volume</th>\n",
              "      <th>new product</th>\n",
              "    </tr>\n",
              "    <tr>\n",
              "      <th>Date</th>\n",
              "      <th></th>\n",
              "      <th></th>\n",
              "      <th></th>\n",
              "      <th></th>\n",
              "      <th></th>\n",
              "      <th></th>\n",
              "      <th></th>\n",
              "    </tr>\n",
              "  </thead>\n",
              "  <tbody>\n",
              "    <tr>\n",
              "      <th>2010-01-04</th>\n",
              "      <td>7.622500</td>\n",
              "      <td>7.660714</td>\n",
              "      <td>7.585000</td>\n",
              "      <td>7.643214</td>\n",
              "      <td>6.604801</td>\n",
              "      <td>493729600</td>\n",
              "      <td>0.0</td>\n",
              "    </tr>\n",
              "    <tr>\n",
              "      <th>2010-01-05</th>\n",
              "      <td>7.664286</td>\n",
              "      <td>7.699643</td>\n",
              "      <td>7.616071</td>\n",
              "      <td>7.656428</td>\n",
              "      <td>6.616219</td>\n",
              "      <td>601904800</td>\n",
              "      <td>0.0</td>\n",
              "    </tr>\n",
              "    <tr>\n",
              "      <th>2010-01-06</th>\n",
              "      <td>7.656428</td>\n",
              "      <td>7.686786</td>\n",
              "      <td>7.526786</td>\n",
              "      <td>7.534643</td>\n",
              "      <td>6.510980</td>\n",
              "      <td>552160000</td>\n",
              "      <td>0.0</td>\n",
              "    </tr>\n",
              "    <tr>\n",
              "      <th>2010-01-07</th>\n",
              "      <td>7.562500</td>\n",
              "      <td>7.571429</td>\n",
              "      <td>7.466072</td>\n",
              "      <td>7.520714</td>\n",
              "      <td>6.498945</td>\n",
              "      <td>477131200</td>\n",
              "      <td>0.0</td>\n",
              "    </tr>\n",
              "    <tr>\n",
              "      <th>2010-01-08</th>\n",
              "      <td>7.510714</td>\n",
              "      <td>7.571429</td>\n",
              "      <td>7.466429</td>\n",
              "      <td>7.570714</td>\n",
              "      <td>6.542150</td>\n",
              "      <td>447610800</td>\n",
              "      <td>0.0</td>\n",
              "    </tr>\n",
              "  </tbody>\n",
              "</table>\n",
              "</div>"
            ],
            "text/plain": [
              "                Open      High       Low  ...  Adj Close     Volume  new product\n",
              "Date                                      ...                                   \n",
              "2010-01-04  7.622500  7.660714  7.585000  ...   6.604801  493729600          0.0\n",
              "2010-01-05  7.664286  7.699643  7.616071  ...   6.616219  601904800          0.0\n",
              "2010-01-06  7.656428  7.686786  7.526786  ...   6.510980  552160000          0.0\n",
              "2010-01-07  7.562500  7.571429  7.466072  ...   6.498945  477131200          0.0\n",
              "2010-01-08  7.510714  7.571429  7.466429  ...   6.542150  447610800          0.0\n",
              "\n",
              "[5 rows x 7 columns]"
            ]
          },
          "metadata": {
            "tags": []
          },
          "execution_count": 10
        }
      ]
    },
    {
      "cell_type": "markdown",
      "metadata": {
        "id": "IGIq6_Fm-PDS",
        "colab_type": "text"
      },
      "source": [
        "## Get training set"
      ]
    },
    {
      "cell_type": "code",
      "metadata": {
        "id": "Ou-JVbzt-d78",
        "colab_type": "code",
        "colab": {}
      },
      "source": [
        "training_set = dataset.iloc[:, [3,5,6]].values"
      ],
      "execution_count": 11,
      "outputs": []
    },
    {
      "cell_type": "code",
      "metadata": {
        "id": "SieJLZ-K0Tdp",
        "colab_type": "code",
        "colab": {
          "base_uri": "https://localhost:8080/",
          "height": 136
        },
        "outputId": "6790de68-766b-4ce3-be3a-f4937fba785c"
      },
      "source": [
        "print(training_set)"
      ],
      "execution_count": 12,
      "outputs": [
        {
          "output_type": "stream",
          "text": [
            "[[7.64321423e+00 4.93729600e+08 0.00000000e+00]\n",
            " [7.65642834e+00 6.01904800e+08 0.00000000e+00]\n",
            " [7.53464270e+00 5.52160000e+08 0.00000000e+00]\n",
            " ...\n",
            " [7.24499969e+01 1.46266000e+08 0.00000000e+00]\n",
            " [7.28799973e+01 1.44114400e+08 0.00000000e+00]\n",
            " [7.34124985e+01 1.00805600e+08 0.00000000e+00]]\n"
          ],
          "name": "stdout"
        }
      ]
    },
    {
      "cell_type": "markdown",
      "metadata": {
        "id": "_Wq4Lw85Crpb",
        "colab_type": "text"
      },
      "source": [
        "## Feature Scaling"
      ]
    },
    {
      "cell_type": "code",
      "metadata": {
        "id": "9hkfQlKVCvrC",
        "colab_type": "code",
        "colab": {}
      },
      "source": [
        "from sklearn.preprocessing import MinMaxScaler\n",
        "sc = MinMaxScaler(feature_range = (0, 1))\n",
        "train_scaled = sc.fit_transform(training_set)"
      ],
      "execution_count": 13,
      "outputs": []
    },
    {
      "cell_type": "code",
      "metadata": {
        "id": "-EIBEwO40eKp",
        "colab_type": "code",
        "colab": {
          "base_uri": "https://localhost:8080/",
          "height": 136
        },
        "outputId": "b2725e76-e219-497c-cad3-ff0cc0454de9"
      },
      "source": [
        "print(train_scaled)"
      ],
      "execution_count": 14,
      "outputs": [
        {
          "output_type": "stream",
          "text": [
            "[[0.01178427 0.24422195 0.        ]\n",
            " [0.01198282 0.30315535 0.        ]\n",
            " [0.01015293 0.27605459 0.        ]\n",
            " ...\n",
            " [0.98553794 0.05492523 0.        ]\n",
            " [0.99199891 0.05375304 0.        ]\n",
            " [1.         0.03015859 0.        ]]\n"
          ],
          "name": "stdout"
        }
      ]
    },
    {
      "cell_type": "markdown",
      "metadata": {
        "id": "TpGqbS4TqkIR",
        "colab_type": "text"
      },
      "source": [
        "## Creating a data structure with 60 time steps and 1 output"
      ]
    },
    {
      "cell_type": "code",
      "metadata": {
        "id": "zbEr2MA1DSZK",
        "colab_type": "code",
        "colab": {}
      },
      "source": [
        "X_train = []\n",
        "y_train = []\n",
        "\n",
        "n_past = 100 #number of days in the past we want to take under consideration\n",
        "n_future = 1 #number of days we want to predict in the future\n",
        "\n",
        "for i in range(n_past, len(train_scaled) - n_future + 1):\n",
        "  X_train.append(train_scaled[i - n_past:i, :])\n",
        "  y_train.append(train_scaled[i + n_future - 1:i + n_future, 0])\n",
        "\n",
        "X_train, y_train = np.array(X_train), np.array(y_train)"
      ],
      "execution_count": 15,
      "outputs": []
    },
    {
      "cell_type": "markdown",
      "metadata": {
        "id": "TM9NoQbZEbJK",
        "colab_type": "text"
      },
      "source": [
        "# Build the RNN"
      ]
    },
    {
      "cell_type": "code",
      "metadata": {
        "id": "WXT-EKRhIufd",
        "colab_type": "code",
        "colab": {}
      },
      "source": [
        "from keras.models import Sequential\n",
        "from keras.layers import Dense, LSTM, Dropout"
      ],
      "execution_count": 16,
      "outputs": []
    },
    {
      "cell_type": "code",
      "metadata": {
        "id": "WvXmtFjsI4LO",
        "colab_type": "code",
        "colab": {}
      },
      "source": [
        "regressor = Sequential()"
      ],
      "execution_count": 17,
      "outputs": []
    },
    {
      "cell_type": "markdown",
      "metadata": {
        "id": "aAeh_2rfI9Mj",
        "colab_type": "text"
      },
      "source": [
        "## Add four LSTM layers and dropout regularisation"
      ]
    },
    {
      "cell_type": "code",
      "metadata": {
        "id": "t_CbUyPUJGVD",
        "colab_type": "code",
        "colab": {}
      },
      "source": [
        "regressor.add(LSTM(units = 50, return_sequences = True, input_shape = (X_train.shape[1], X_train.shape[2])))\n",
        "regressor.add(Dropout(0.2))"
      ],
      "execution_count": 18,
      "outputs": []
    },
    {
      "cell_type": "code",
      "metadata": {
        "id": "117WvmC6JeX-",
        "colab_type": "code",
        "colab": {}
      },
      "source": [
        "regressor.add(LSTM(units = 50, return_sequences = True))\n",
        "regressor.add(Dropout(0.2))"
      ],
      "execution_count": 19,
      "outputs": []
    },
    {
      "cell_type": "code",
      "metadata": {
        "id": "MZ8I_g0EJjqf",
        "colab_type": "code",
        "colab": {}
      },
      "source": [
        "regressor.add(LSTM(units = 50, return_sequences = True))\n",
        "regressor.add(Dropout(0.2))"
      ],
      "execution_count": 20,
      "outputs": []
    },
    {
      "cell_type": "code",
      "metadata": {
        "id": "ABYeEnozJj2j",
        "colab_type": "code",
        "colab": {
          "base_uri": "https://localhost:8080/",
          "height": 358
        },
        "outputId": "b3fdd007-b7b5-46f0-cab8-0e90bb80df59"
      },
      "source": [
        "regressor.add(LSTM(units = 50, return_sequences = False))\n",
        "regressor.add(Dropout(0.2))"
      ],
      "execution_count": 23,
      "outputs": [
        {
          "output_type": "error",
          "ename": "ValueError",
          "evalue": "ignored",
          "traceback": [
            "\u001b[0;31m---------------------------------------------------------------------------\u001b[0m",
            "\u001b[0;31mValueError\u001b[0m                                Traceback (most recent call last)",
            "\u001b[0;32m<ipython-input-23-21a75c3ea0db>\u001b[0m in \u001b[0;36m<module>\u001b[0;34m()\u001b[0m\n\u001b[0;32m----> 1\u001b[0;31m \u001b[0mregressor\u001b[0m\u001b[0;34m.\u001b[0m\u001b[0madd\u001b[0m\u001b[0;34m(\u001b[0m\u001b[0mLSTM\u001b[0m\u001b[0;34m(\u001b[0m\u001b[0munits\u001b[0m \u001b[0;34m=\u001b[0m \u001b[0;36m50\u001b[0m\u001b[0;34m,\u001b[0m \u001b[0mreturn_sequences\u001b[0m \u001b[0;34m=\u001b[0m \u001b[0;32mFalse\u001b[0m\u001b[0;34m)\u001b[0m\u001b[0;34m)\u001b[0m\u001b[0;34m\u001b[0m\u001b[0;34m\u001b[0m\u001b[0m\n\u001b[0m\u001b[1;32m      2\u001b[0m \u001b[0mregressor\u001b[0m\u001b[0;34m.\u001b[0m\u001b[0madd\u001b[0m\u001b[0;34m(\u001b[0m\u001b[0mDropout\u001b[0m\u001b[0;34m(\u001b[0m\u001b[0;36m0.2\u001b[0m\u001b[0;34m)\u001b[0m\u001b[0;34m)\u001b[0m\u001b[0;34m\u001b[0m\u001b[0;34m\u001b[0m\u001b[0m\n",
            "\u001b[0;32m/usr/local/lib/python3.6/dist-packages/tensorflow/python/training/tracking/base.py\u001b[0m in \u001b[0;36m_method_wrapper\u001b[0;34m(self, *args, **kwargs)\u001b[0m\n\u001b[1;32m    455\u001b[0m     \u001b[0mself\u001b[0m\u001b[0;34m.\u001b[0m\u001b[0m_self_setattr_tracking\u001b[0m \u001b[0;34m=\u001b[0m \u001b[0;32mFalse\u001b[0m  \u001b[0;31m# pylint: disable=protected-access\u001b[0m\u001b[0;34m\u001b[0m\u001b[0;34m\u001b[0m\u001b[0m\n\u001b[1;32m    456\u001b[0m     \u001b[0;32mtry\u001b[0m\u001b[0;34m:\u001b[0m\u001b[0;34m\u001b[0m\u001b[0;34m\u001b[0m\u001b[0m\n\u001b[0;32m--> 457\u001b[0;31m       \u001b[0mresult\u001b[0m \u001b[0;34m=\u001b[0m \u001b[0mmethod\u001b[0m\u001b[0;34m(\u001b[0m\u001b[0mself\u001b[0m\u001b[0;34m,\u001b[0m \u001b[0;34m*\u001b[0m\u001b[0margs\u001b[0m\u001b[0;34m,\u001b[0m \u001b[0;34m**\u001b[0m\u001b[0mkwargs\u001b[0m\u001b[0;34m)\u001b[0m\u001b[0;34m\u001b[0m\u001b[0;34m\u001b[0m\u001b[0m\n\u001b[0m\u001b[1;32m    458\u001b[0m     \u001b[0;32mfinally\u001b[0m\u001b[0;34m:\u001b[0m\u001b[0;34m\u001b[0m\u001b[0;34m\u001b[0m\u001b[0m\n\u001b[1;32m    459\u001b[0m       \u001b[0mself\u001b[0m\u001b[0;34m.\u001b[0m\u001b[0m_self_setattr_tracking\u001b[0m \u001b[0;34m=\u001b[0m \u001b[0mprevious_value\u001b[0m  \u001b[0;31m# pylint: disable=protected-access\u001b[0m\u001b[0;34m\u001b[0m\u001b[0;34m\u001b[0m\u001b[0m\n",
            "\u001b[0;32m/usr/local/lib/python3.6/dist-packages/tensorflow/python/keras/engine/sequential.py\u001b[0m in \u001b[0;36madd\u001b[0;34m(self, layer)\u001b[0m\n\u001b[1;32m    219\u001b[0m       \u001b[0;31m# If the model is being built continuously on top of an input layer:\u001b[0m\u001b[0;34m\u001b[0m\u001b[0;34m\u001b[0m\u001b[0;34m\u001b[0m\u001b[0m\n\u001b[1;32m    220\u001b[0m       \u001b[0;31m# refresh its output.\u001b[0m\u001b[0;34m\u001b[0m\u001b[0;34m\u001b[0m\u001b[0;34m\u001b[0m\u001b[0m\n\u001b[0;32m--> 221\u001b[0;31m       \u001b[0moutput_tensor\u001b[0m \u001b[0;34m=\u001b[0m \u001b[0mlayer\u001b[0m\u001b[0;34m(\u001b[0m\u001b[0mself\u001b[0m\u001b[0;34m.\u001b[0m\u001b[0moutputs\u001b[0m\u001b[0;34m[\u001b[0m\u001b[0;36m0\u001b[0m\u001b[0;34m]\u001b[0m\u001b[0;34m)\u001b[0m\u001b[0;34m\u001b[0m\u001b[0;34m\u001b[0m\u001b[0m\n\u001b[0m\u001b[1;32m    222\u001b[0m       \u001b[0;32mif\u001b[0m \u001b[0mlen\u001b[0m\u001b[0;34m(\u001b[0m\u001b[0mnest\u001b[0m\u001b[0;34m.\u001b[0m\u001b[0mflatten\u001b[0m\u001b[0;34m(\u001b[0m\u001b[0moutput_tensor\u001b[0m\u001b[0;34m)\u001b[0m\u001b[0;34m)\u001b[0m \u001b[0;34m!=\u001b[0m \u001b[0;36m1\u001b[0m\u001b[0;34m:\u001b[0m\u001b[0;34m\u001b[0m\u001b[0;34m\u001b[0m\u001b[0m\n\u001b[1;32m    223\u001b[0m         \u001b[0;32mraise\u001b[0m \u001b[0mValueError\u001b[0m\u001b[0;34m(\u001b[0m\u001b[0mSINGLE_LAYER_OUTPUT_ERROR_MSG\u001b[0m\u001b[0;34m)\u001b[0m\u001b[0;34m\u001b[0m\u001b[0;34m\u001b[0m\u001b[0m\n",
            "\u001b[0;32m/usr/local/lib/python3.6/dist-packages/tensorflow/python/keras/layers/recurrent.py\u001b[0m in \u001b[0;36m__call__\u001b[0;34m(self, inputs, initial_state, constants, **kwargs)\u001b[0m\n\u001b[1;32m    661\u001b[0m \u001b[0;34m\u001b[0m\u001b[0m\n\u001b[1;32m    662\u001b[0m     \u001b[0;32mif\u001b[0m \u001b[0minitial_state\u001b[0m \u001b[0;32mis\u001b[0m \u001b[0;32mNone\u001b[0m \u001b[0;32mand\u001b[0m \u001b[0mconstants\u001b[0m \u001b[0;32mis\u001b[0m \u001b[0;32mNone\u001b[0m\u001b[0;34m:\u001b[0m\u001b[0;34m\u001b[0m\u001b[0;34m\u001b[0m\u001b[0m\n\u001b[0;32m--> 663\u001b[0;31m       \u001b[0;32mreturn\u001b[0m \u001b[0msuper\u001b[0m\u001b[0;34m(\u001b[0m\u001b[0mRNN\u001b[0m\u001b[0;34m,\u001b[0m \u001b[0mself\u001b[0m\u001b[0;34m)\u001b[0m\u001b[0;34m.\u001b[0m\u001b[0m__call__\u001b[0m\u001b[0;34m(\u001b[0m\u001b[0minputs\u001b[0m\u001b[0;34m,\u001b[0m \u001b[0;34m**\u001b[0m\u001b[0mkwargs\u001b[0m\u001b[0;34m)\u001b[0m\u001b[0;34m\u001b[0m\u001b[0;34m\u001b[0m\u001b[0m\n\u001b[0m\u001b[1;32m    664\u001b[0m \u001b[0;34m\u001b[0m\u001b[0m\n\u001b[1;32m    665\u001b[0m     \u001b[0;31m# If any of `initial_state` or `constants` are specified and are Keras\u001b[0m\u001b[0;34m\u001b[0m\u001b[0;34m\u001b[0m\u001b[0;34m\u001b[0m\u001b[0m\n",
            "\u001b[0;32m/usr/local/lib/python3.6/dist-packages/tensorflow/python/keras/engine/base_layer.py\u001b[0m in \u001b[0;36m__call__\u001b[0;34m(self, *args, **kwargs)\u001b[0m\n\u001b[1;32m    924\u001b[0m     \u001b[0;32mif\u001b[0m \u001b[0m_in_functional_construction_mode\u001b[0m\u001b[0;34m(\u001b[0m\u001b[0mself\u001b[0m\u001b[0;34m,\u001b[0m \u001b[0minputs\u001b[0m\u001b[0;34m,\u001b[0m \u001b[0margs\u001b[0m\u001b[0;34m,\u001b[0m \u001b[0mkwargs\u001b[0m\u001b[0;34m,\u001b[0m \u001b[0minput_list\u001b[0m\u001b[0;34m)\u001b[0m\u001b[0;34m:\u001b[0m\u001b[0;34m\u001b[0m\u001b[0;34m\u001b[0m\u001b[0m\n\u001b[1;32m    925\u001b[0m       return self._functional_construction_call(inputs, args, kwargs,\n\u001b[0;32m--> 926\u001b[0;31m                                                 input_list)\n\u001b[0m\u001b[1;32m    927\u001b[0m \u001b[0;34m\u001b[0m\u001b[0m\n\u001b[1;32m    928\u001b[0m     \u001b[0;31m# Maintains info about the `Layer.call` stack.\u001b[0m\u001b[0;34m\u001b[0m\u001b[0;34m\u001b[0m\u001b[0;34m\u001b[0m\u001b[0m\n",
            "\u001b[0;32m/usr/local/lib/python3.6/dist-packages/tensorflow/python/keras/engine/base_layer.py\u001b[0m in \u001b[0;36m_functional_construction_call\u001b[0;34m(self, inputs, args, kwargs, input_list)\u001b[0m\n\u001b[1;32m   1090\u001b[0m       \u001b[0;31m# TODO(reedwm): We should assert input compatibility after the inputs\u001b[0m\u001b[0;34m\u001b[0m\u001b[0;34m\u001b[0m\u001b[0;34m\u001b[0m\u001b[0m\n\u001b[1;32m   1091\u001b[0m       \u001b[0;31m# are casted, not before.\u001b[0m\u001b[0;34m\u001b[0m\u001b[0;34m\u001b[0m\u001b[0;34m\u001b[0m\u001b[0m\n\u001b[0;32m-> 1092\u001b[0;31m       \u001b[0minput_spec\u001b[0m\u001b[0;34m.\u001b[0m\u001b[0massert_input_compatibility\u001b[0m\u001b[0;34m(\u001b[0m\u001b[0mself\u001b[0m\u001b[0;34m.\u001b[0m\u001b[0minput_spec\u001b[0m\u001b[0;34m,\u001b[0m \u001b[0minputs\u001b[0m\u001b[0;34m,\u001b[0m \u001b[0mself\u001b[0m\u001b[0;34m.\u001b[0m\u001b[0mname\u001b[0m\u001b[0;34m)\u001b[0m\u001b[0;34m\u001b[0m\u001b[0;34m\u001b[0m\u001b[0m\n\u001b[0m\u001b[1;32m   1093\u001b[0m       \u001b[0mgraph\u001b[0m \u001b[0;34m=\u001b[0m \u001b[0mbackend\u001b[0m\u001b[0;34m.\u001b[0m\u001b[0mget_graph\u001b[0m\u001b[0;34m(\u001b[0m\u001b[0;34m)\u001b[0m\u001b[0;34m\u001b[0m\u001b[0;34m\u001b[0m\u001b[0m\n\u001b[1;32m   1094\u001b[0m       \u001b[0;31m# Use `self._name_scope()` to avoid auto-incrementing the name.\u001b[0m\u001b[0;34m\u001b[0m\u001b[0;34m\u001b[0m\u001b[0;34m\u001b[0m\u001b[0m\n",
            "\u001b[0;32m/usr/local/lib/python3.6/dist-packages/tensorflow/python/keras/engine/input_spec.py\u001b[0m in \u001b[0;36massert_input_compatibility\u001b[0;34m(input_spec, inputs, layer_name)\u001b[0m\n\u001b[1;32m    178\u001b[0m                          \u001b[0;34m'expected ndim='\u001b[0m \u001b[0;34m+\u001b[0m \u001b[0mstr\u001b[0m\u001b[0;34m(\u001b[0m\u001b[0mspec\u001b[0m\u001b[0;34m.\u001b[0m\u001b[0mndim\u001b[0m\u001b[0;34m)\u001b[0m \u001b[0;34m+\u001b[0m \u001b[0;34m', found ndim='\u001b[0m \u001b[0;34m+\u001b[0m\u001b[0;34m\u001b[0m\u001b[0;34m\u001b[0m\u001b[0m\n\u001b[1;32m    179\u001b[0m                          \u001b[0mstr\u001b[0m\u001b[0;34m(\u001b[0m\u001b[0mndim\u001b[0m\u001b[0;34m)\u001b[0m \u001b[0;34m+\u001b[0m \u001b[0;34m'. Full shape received: '\u001b[0m \u001b[0;34m+\u001b[0m\u001b[0;34m\u001b[0m\u001b[0;34m\u001b[0m\u001b[0m\n\u001b[0;32m--> 180\u001b[0;31m                          str(x.shape.as_list()))\n\u001b[0m\u001b[1;32m    181\u001b[0m     \u001b[0;32mif\u001b[0m \u001b[0mspec\u001b[0m\u001b[0;34m.\u001b[0m\u001b[0mmax_ndim\u001b[0m \u001b[0;32mis\u001b[0m \u001b[0;32mnot\u001b[0m \u001b[0;32mNone\u001b[0m\u001b[0;34m:\u001b[0m\u001b[0;34m\u001b[0m\u001b[0;34m\u001b[0m\u001b[0m\n\u001b[1;32m    182\u001b[0m       \u001b[0mndim\u001b[0m \u001b[0;34m=\u001b[0m \u001b[0mx\u001b[0m\u001b[0;34m.\u001b[0m\u001b[0mshape\u001b[0m\u001b[0;34m.\u001b[0m\u001b[0mndims\u001b[0m\u001b[0;34m\u001b[0m\u001b[0;34m\u001b[0m\u001b[0m\n",
            "\u001b[0;31mValueError\u001b[0m: Input 0 of layer lstm_4 is incompatible with the layer: expected ndim=3, found ndim=2. Full shape received: [None, 1]"
          ]
        }
      ]
    },
    {
      "cell_type": "markdown",
      "metadata": {
        "id": "17FlRIdRJmms",
        "colab_type": "text"
      },
      "source": [
        "## Add the output layer"
      ]
    },
    {
      "cell_type": "code",
      "metadata": {
        "id": "XNUxnTi_JpSx",
        "colab_type": "code",
        "colab": {}
      },
      "source": [
        "regressor.add(Dense(units = 1))"
      ],
      "execution_count": 22,
      "outputs": []
    },
    {
      "cell_type": "markdown",
      "metadata": {
        "id": "SFg5h6KgJ1TP",
        "colab_type": "text"
      },
      "source": [
        "## Compiling the RNN"
      ]
    },
    {
      "cell_type": "code",
      "metadata": {
        "id": "k1loq-yuJ3bS",
        "colab_type": "code",
        "colab": {}
      },
      "source": [
        "regressor.compile(optimizer = 'adam', loss = 'mean_squared_error')"
      ],
      "execution_count": 24,
      "outputs": []
    },
    {
      "cell_type": "markdown",
      "metadata": {
        "id": "vTeEvCt8J-3H",
        "colab_type": "text"
      },
      "source": [
        "## Fitting RNN to training set"
      ]
    },
    {
      "cell_type": "code",
      "metadata": {
        "id": "qtf0eHNlT6fh",
        "colab_type": "code",
        "colab": {
          "base_uri": "https://localhost:8080/",
          "height": 1000
        },
        "outputId": "078fafff-efc0-4e28-af4c-4e45ae60752c"
      },
      "source": [
        "from keras.callbacks import EarlyStopping, ReduceLROnPlateau, ModelCheckpoint, TensorBoard\n",
        "\n",
        "es = EarlyStopping(monitor='val_loss', min_delta=1e-10, patience=10, verbose=1)\n",
        "rlr = ReduceLROnPlateau(monitor='val_loss', factor=0.5, patience=5, verbose=1)\n",
        "mcp = ModelCheckpoint(filepath='weights.h5', monitor='val_loss', verbose=1, save_best_only=True, save_weights_only=True)\n",
        "tb = TensorBoard('logs')\n",
        "\n",
        "history = regressor.fit(X_train, y_train, shuffle=True,\n",
        "                        epochs=15, callbacks=[es, rlr,mcp, tb], validation_split=0.2, verbose=1, batch_size=64)"
      ],
      "execution_count": 25,
      "outputs": [
        {
          "output_type": "stream",
          "text": [
            "Epoch 1/15\n",
            " 1/31 [..............................] - ETA: 0s - loss: 0.0761WARNING:tensorflow:From /usr/local/lib/python3.6/dist-packages/tensorflow/python/ops/summary_ops_v2.py:1277: stop (from tensorflow.python.eager.profiler) is deprecated and will be removed after 2020-07-01.\n",
            "Instructions for updating:\n",
            "use `tf.profiler.experimental.stop` instead.\n",
            " 2/31 [>.............................] - ETA: 9s - loss: 0.0672WARNING:tensorflow:Callbacks method `on_train_batch_end` is slow compared to the batch time (batch time: 0.2504s vs `on_train_batch_end` time: 0.3945s). Check your callbacks.\n",
            "31/31 [==============================] - ETA: 0s - loss: 0.0096\n",
            "Epoch 00001: val_loss improved from inf to 0.01492, saving model to weights.h5\n",
            "31/31 [==============================] - 9s 298ms/step - loss: 0.0096 - val_loss: 0.0149\n",
            "Epoch 2/15\n",
            "31/31 [==============================] - ETA: 0s - loss: 0.0015\n",
            "Epoch 00002: val_loss improved from 0.01492 to 0.00626, saving model to weights.h5\n",
            "31/31 [==============================] - 8s 257ms/step - loss: 0.0015 - val_loss: 0.0063\n",
            "Epoch 3/15\n",
            "31/31 [==============================] - ETA: 0s - loss: 0.0011\n",
            "Epoch 00003: val_loss improved from 0.00626 to 0.00352, saving model to weights.h5\n",
            "31/31 [==============================] - 8s 257ms/step - loss: 0.0011 - val_loss: 0.0035\n",
            "Epoch 4/15\n",
            "31/31 [==============================] - ETA: 0s - loss: 0.0010\n",
            "Epoch 00004: val_loss improved from 0.00352 to 0.00324, saving model to weights.h5\n",
            "31/31 [==============================] - 9s 290ms/step - loss: 0.0010 - val_loss: 0.0032\n",
            "Epoch 5/15\n",
            "31/31 [==============================] - ETA: 0s - loss: 9.2593e-04\n",
            "Epoch 00005: val_loss improved from 0.00324 to 0.00309, saving model to weights.h5\n",
            "31/31 [==============================] - 8s 260ms/step - loss: 9.2593e-04 - val_loss: 0.0031\n",
            "Epoch 6/15\n",
            "31/31 [==============================] - ETA: 0s - loss: 9.9527e-04\n",
            "Epoch 00006: val_loss did not improve from 0.00309\n",
            "31/31 [==============================] - 8s 257ms/step - loss: 9.9527e-04 - val_loss: 0.0041\n",
            "Epoch 7/15\n",
            "31/31 [==============================] - ETA: 0s - loss: 9.3609e-04\n",
            "Epoch 00007: val_loss improved from 0.00309 to 0.00250, saving model to weights.h5\n",
            "31/31 [==============================] - 8s 255ms/step - loss: 9.3609e-04 - val_loss: 0.0025\n",
            "Epoch 8/15\n",
            "31/31 [==============================] - ETA: 0s - loss: 8.6151e-04\n",
            "Epoch 00008: val_loss did not improve from 0.00250\n",
            "31/31 [==============================] - 8s 257ms/step - loss: 8.6151e-04 - val_loss: 0.0043\n",
            "Epoch 9/15\n",
            "31/31 [==============================] - ETA: 0s - loss: 8.0210e-04\n",
            "Epoch 00009: val_loss did not improve from 0.00250\n",
            "31/31 [==============================] - 8s 263ms/step - loss: 8.0210e-04 - val_loss: 0.0032\n",
            "Epoch 10/15\n",
            "31/31 [==============================] - ETA: 0s - loss: 8.0088e-04\n",
            "Epoch 00010: val_loss did not improve from 0.00250\n",
            "31/31 [==============================] - 8s 263ms/step - loss: 8.0088e-04 - val_loss: 0.0027\n",
            "Epoch 11/15\n",
            "31/31 [==============================] - ETA: 0s - loss: 7.9609e-04\n",
            "Epoch 00011: val_loss did not improve from 0.00250\n",
            "31/31 [==============================] - 8s 262ms/step - loss: 7.9609e-04 - val_loss: 0.0030\n",
            "Epoch 12/15\n",
            "31/31 [==============================] - ETA: 0s - loss: 7.7479e-04\n",
            "Epoch 00012: ReduceLROnPlateau reducing learning rate to 0.0005000000237487257.\n",
            "\n",
            "Epoch 00012: val_loss did not improve from 0.00250\n",
            "31/31 [==============================] - 8s 261ms/step - loss: 7.7479e-04 - val_loss: 0.0039\n",
            "Epoch 13/15\n",
            "31/31 [==============================] - ETA: 0s - loss: 7.7690e-04\n",
            "Epoch 00013: val_loss did not improve from 0.00250\n",
            "31/31 [==============================] - 8s 259ms/step - loss: 7.7690e-04 - val_loss: 0.0026\n",
            "Epoch 14/15\n",
            "31/31 [==============================] - ETA: 0s - loss: 7.7987e-04\n",
            "Epoch 00014: val_loss improved from 0.00250 to 0.00213, saving model to weights.h5\n",
            "31/31 [==============================] - 8s 261ms/step - loss: 7.7987e-04 - val_loss: 0.0021\n",
            "Epoch 15/15\n",
            "31/31 [==============================] - ETA: 0s - loss: 6.9596e-04\n",
            "Epoch 00015: val_loss improved from 0.00213 to 0.00208, saving model to weights.h5\n",
            "31/31 [==============================] - 8s 261ms/step - loss: 6.9596e-04 - val_loss: 0.0021\n"
          ],
          "name": "stdout"
        }
      ]
    },
    {
      "cell_type": "markdown",
      "metadata": {
        "id": "vrwJTs29Y7_r",
        "colab_type": "text"
      },
      "source": [
        "# Making predictions"
      ]
    },
    {
      "cell_type": "markdown",
      "metadata": {
        "id": "1hHZZ6BNeMAf",
        "colab_type": "text"
      },
      "source": [
        "## Get real price"
      ]
    },
    {
      "cell_type": "code",
      "metadata": {
        "id": "_yDxgxHIbob2",
        "colab_type": "code",
        "colab": {
          "base_uri": "https://localhost:8080/",
          "height": 34
        },
        "outputId": "ff6805e2-3f90-418b-b18d-013552846e43"
      },
      "source": [
        "dataset_test = yf.download('AAPL', start='2020-01-01', end='2020-07-01')\n",
        "real_stock_price = dataset_test.iloc[:, 1:2].values"
      ],
      "execution_count": 26,
      "outputs": [
        {
          "output_type": "stream",
          "text": [
            "\r[*********************100%***********************]  1 of 1 completed\n"
          ],
          "name": "stdout"
        }
      ]
    },
    {
      "cell_type": "code",
      "metadata": {
        "id": "WyS11DjIy0yF",
        "colab_type": "code",
        "colab": {
          "base_uri": "https://localhost:8080/",
          "height": 235
        },
        "outputId": "8260d474-2712-4023-9c2a-1f9b8e7d4c91"
      },
      "source": [
        "dataset_test.head()"
      ],
      "execution_count": 27,
      "outputs": [
        {
          "output_type": "execute_result",
          "data": {
            "text/html": [
              "<div>\n",
              "<style scoped>\n",
              "    .dataframe tbody tr th:only-of-type {\n",
              "        vertical-align: middle;\n",
              "    }\n",
              "\n",
              "    .dataframe tbody tr th {\n",
              "        vertical-align: top;\n",
              "    }\n",
              "\n",
              "    .dataframe thead th {\n",
              "        text-align: right;\n",
              "    }\n",
              "</style>\n",
              "<table border=\"1\" class=\"dataframe\">\n",
              "  <thead>\n",
              "    <tr style=\"text-align: right;\">\n",
              "      <th></th>\n",
              "      <th>Open</th>\n",
              "      <th>High</th>\n",
              "      <th>Low</th>\n",
              "      <th>Close</th>\n",
              "      <th>Adj Close</th>\n",
              "      <th>Volume</th>\n",
              "    </tr>\n",
              "    <tr>\n",
              "      <th>Date</th>\n",
              "      <th></th>\n",
              "      <th></th>\n",
              "      <th></th>\n",
              "      <th></th>\n",
              "      <th></th>\n",
              "      <th></th>\n",
              "    </tr>\n",
              "  </thead>\n",
              "  <tbody>\n",
              "    <tr>\n",
              "      <th>2020-01-02</th>\n",
              "      <td>74.059998</td>\n",
              "      <td>75.150002</td>\n",
              "      <td>73.797501</td>\n",
              "      <td>75.087502</td>\n",
              "      <td>74.573036</td>\n",
              "      <td>135480400</td>\n",
              "    </tr>\n",
              "    <tr>\n",
              "      <th>2020-01-03</th>\n",
              "      <td>74.287498</td>\n",
              "      <td>75.144997</td>\n",
              "      <td>74.125000</td>\n",
              "      <td>74.357498</td>\n",
              "      <td>73.848030</td>\n",
              "      <td>146322800</td>\n",
              "    </tr>\n",
              "    <tr>\n",
              "      <th>2020-01-06</th>\n",
              "      <td>73.447502</td>\n",
              "      <td>74.989998</td>\n",
              "      <td>73.187500</td>\n",
              "      <td>74.949997</td>\n",
              "      <td>74.436470</td>\n",
              "      <td>118387200</td>\n",
              "    </tr>\n",
              "    <tr>\n",
              "      <th>2020-01-07</th>\n",
              "      <td>74.959999</td>\n",
              "      <td>75.224998</td>\n",
              "      <td>74.370003</td>\n",
              "      <td>74.597504</td>\n",
              "      <td>74.086395</td>\n",
              "      <td>108872000</td>\n",
              "    </tr>\n",
              "    <tr>\n",
              "      <th>2020-01-08</th>\n",
              "      <td>74.290001</td>\n",
              "      <td>76.110001</td>\n",
              "      <td>74.290001</td>\n",
              "      <td>75.797501</td>\n",
              "      <td>75.278160</td>\n",
              "      <td>132079200</td>\n",
              "    </tr>\n",
              "  </tbody>\n",
              "</table>\n",
              "</div>"
            ],
            "text/plain": [
              "                 Open       High        Low      Close  Adj Close     Volume\n",
              "Date                                                                        \n",
              "2020-01-02  74.059998  75.150002  73.797501  75.087502  74.573036  135480400\n",
              "2020-01-03  74.287498  75.144997  74.125000  74.357498  73.848030  146322800\n",
              "2020-01-06  73.447502  74.989998  73.187500  74.949997  74.436470  118387200\n",
              "2020-01-07  74.959999  75.224998  74.370003  74.597504  74.086395  108872000\n",
              "2020-01-08  74.290001  76.110001  74.290001  75.797501  75.278160  132079200"
            ]
          },
          "metadata": {
            "tags": []
          },
          "execution_count": 27
        }
      ]
    },
    {
      "cell_type": "markdown",
      "metadata": {
        "id": "lskI24RchddQ",
        "colab_type": "text"
      },
      "source": [
        "## Add new product release date to real price"
      ]
    },
    {
      "cell_type": "code",
      "metadata": {
        "id": "vmze5E0hBk1f",
        "colab_type": "code",
        "colab": {}
      },
      "source": [
        "dates_2020 = []\n",
        "for i in range(len(dataset_test.index)):\n",
        "  dates_2020.append(get_date(dataset_test.index.values[i]))"
      ],
      "execution_count": 28,
      "outputs": []
    },
    {
      "cell_type": "code",
      "metadata": {
        "id": "lzwciz2Vhcd3",
        "colab_type": "code",
        "colab": {}
      },
      "source": [
        "new_product_2020 = np.zeros(len(dataset_test))\n",
        "for i in range(0,len(dataset_test.axes[0])):\n",
        "  if dates_2020[i] in new_product_release_data_in_2020:\n",
        "    new_product_2020[i] = 1"
      ],
      "execution_count": 29,
      "outputs": []
    },
    {
      "cell_type": "code",
      "metadata": {
        "id": "njNSDXM2io2s",
        "colab_type": "code",
        "colab": {}
      },
      "source": [
        "dataset_test['new product'] = new_product_2020"
      ],
      "execution_count": 30,
      "outputs": []
    },
    {
      "cell_type": "code",
      "metadata": {
        "id": "p_gnFW7wzaDn",
        "colab_type": "code",
        "colab": {
          "base_uri": "https://localhost:8080/",
          "height": 235
        },
        "outputId": "94158279-2bb2-4bec-bdde-e7965a19796e"
      },
      "source": [
        "dataset_test.head()"
      ],
      "execution_count": 33,
      "outputs": [
        {
          "output_type": "execute_result",
          "data": {
            "text/html": [
              "<div>\n",
              "<style scoped>\n",
              "    .dataframe tbody tr th:only-of-type {\n",
              "        vertical-align: middle;\n",
              "    }\n",
              "\n",
              "    .dataframe tbody tr th {\n",
              "        vertical-align: top;\n",
              "    }\n",
              "\n",
              "    .dataframe thead th {\n",
              "        text-align: right;\n",
              "    }\n",
              "</style>\n",
              "<table border=\"1\" class=\"dataframe\">\n",
              "  <thead>\n",
              "    <tr style=\"text-align: right;\">\n",
              "      <th></th>\n",
              "      <th>Open</th>\n",
              "      <th>High</th>\n",
              "      <th>Low</th>\n",
              "      <th>Close</th>\n",
              "      <th>Adj Close</th>\n",
              "      <th>Volume</th>\n",
              "      <th>new product</th>\n",
              "    </tr>\n",
              "    <tr>\n",
              "      <th>Date</th>\n",
              "      <th></th>\n",
              "      <th></th>\n",
              "      <th></th>\n",
              "      <th></th>\n",
              "      <th></th>\n",
              "      <th></th>\n",
              "      <th></th>\n",
              "    </tr>\n",
              "  </thead>\n",
              "  <tbody>\n",
              "    <tr>\n",
              "      <th>2020-01-02</th>\n",
              "      <td>74.059998</td>\n",
              "      <td>75.150002</td>\n",
              "      <td>73.797501</td>\n",
              "      <td>75.087502</td>\n",
              "      <td>74.573036</td>\n",
              "      <td>135480400</td>\n",
              "      <td>0.0</td>\n",
              "    </tr>\n",
              "    <tr>\n",
              "      <th>2020-01-03</th>\n",
              "      <td>74.287498</td>\n",
              "      <td>75.144997</td>\n",
              "      <td>74.125000</td>\n",
              "      <td>74.357498</td>\n",
              "      <td>73.848030</td>\n",
              "      <td>146322800</td>\n",
              "      <td>0.0</td>\n",
              "    </tr>\n",
              "    <tr>\n",
              "      <th>2020-01-06</th>\n",
              "      <td>73.447502</td>\n",
              "      <td>74.989998</td>\n",
              "      <td>73.187500</td>\n",
              "      <td>74.949997</td>\n",
              "      <td>74.436470</td>\n",
              "      <td>118387200</td>\n",
              "      <td>0.0</td>\n",
              "    </tr>\n",
              "    <tr>\n",
              "      <th>2020-01-07</th>\n",
              "      <td>74.959999</td>\n",
              "      <td>75.224998</td>\n",
              "      <td>74.370003</td>\n",
              "      <td>74.597504</td>\n",
              "      <td>74.086395</td>\n",
              "      <td>108872000</td>\n",
              "      <td>0.0</td>\n",
              "    </tr>\n",
              "    <tr>\n",
              "      <th>2020-01-08</th>\n",
              "      <td>74.290001</td>\n",
              "      <td>76.110001</td>\n",
              "      <td>74.290001</td>\n",
              "      <td>75.797501</td>\n",
              "      <td>75.278160</td>\n",
              "      <td>132079200</td>\n",
              "      <td>0.0</td>\n",
              "    </tr>\n",
              "  </tbody>\n",
              "</table>\n",
              "</div>"
            ],
            "text/plain": [
              "                 Open       High        Low  ...  Adj Close     Volume  new product\n",
              "Date                                         ...                                   \n",
              "2020-01-02  74.059998  75.150002  73.797501  ...  74.573036  135480400          0.0\n",
              "2020-01-03  74.287498  75.144997  74.125000  ...  73.848030  146322800          0.0\n",
              "2020-01-06  73.447502  74.989998  73.187500  ...  74.436470  118387200          0.0\n",
              "2020-01-07  74.959999  75.224998  74.370003  ...  74.086395  108872000          0.0\n",
              "2020-01-08  74.290001  76.110001  74.290001  ...  75.278160  132079200          0.0\n",
              "\n",
              "[5 rows x 7 columns]"
            ]
          },
          "metadata": {
            "tags": []
          },
          "execution_count": 33
        }
      ]
    },
    {
      "cell_type": "markdown",
      "metadata": {
        "id": "ZnSBu3QJevM2",
        "colab_type": "text"
      },
      "source": [
        "## Get predicted price"
      ]
    },
    {
      "cell_type": "code",
      "metadata": {
        "id": "v6pSTQN6NFNt",
        "colab_type": "code",
        "colab": {}
      },
      "source": [
        "dataset_total = pd.concat((dataset, dataset_test), axis = 0)"
      ],
      "execution_count": 36,
      "outputs": []
    },
    {
      "cell_type": "code",
      "metadata": {
        "id": "61KbeIAdNLHq",
        "colab_type": "code",
        "colab": {}
      },
      "source": [
        "combined_data = dataset_total[['Adj Close', 'Volume', 'new product']]"
      ],
      "execution_count": 60,
      "outputs": []
    },
    {
      "cell_type": "code",
      "metadata": {
        "id": "fLyly8FNjOjC",
        "colab_type": "code",
        "colab": {}
      },
      "source": [
        "inputs = combined_data.iloc[(len(combined_data) - len(dataset_test) - n_past):].values\n",
        "inputs = sc.transform(inputs)"
      ],
      "execution_count": 71,
      "outputs": []
    },
    {
      "cell_type": "code",
      "metadata": {
        "id": "YNB18bvCQ58F",
        "colab_type": "code",
        "colab": {
          "base_uri": "https://localhost:8080/",
          "height": 34
        },
        "outputId": "710e786b-9c9c-406e-ca2f-07ae63378d80"
      },
      "source": [
        "inputs.shape"
      ],
      "execution_count": 72,
      "outputs": [
        {
          "output_type": "execute_result",
          "data": {
            "text/plain": [
              "(225, 3)"
            ]
          },
          "metadata": {
            "tags": []
          },
          "execution_count": 72
        }
      ]
    },
    {
      "cell_type": "code",
      "metadata": {
        "id": "-dloNCrsRvwX",
        "colab_type": "code",
        "colab": {}
      },
      "source": [
        "print(inputs)"
      ],
      "execution_count": null,
      "outputs": []
    },
    {
      "cell_type": "code",
      "metadata": {
        "id": "EUkhGlRbhELd",
        "colab_type": "code",
        "colab": {
          "base_uri": "https://localhost:8080/",
          "height": 34
        },
        "outputId": "dba41865-410f-48bd-898c-09ef8881ada8"
      },
      "source": [
        "X_test = []\n",
        "for i in range(n_past, n_past + len(dataset_test)):\n",
        "  X_test.append(inputs[i - n_past:i, :])\n",
        "\n",
        "X_test = np.array(X_test)\n",
        "type(X_test)\n",
        "X_test.shape\n",
        "#X_test = np.asarray(X_test).astype(np.float32)\n"
      ],
      "execution_count": 75,
      "outputs": [
        {
          "output_type": "execute_result",
          "data": {
            "text/plain": [
              "(125, 100, 3)"
            ]
          },
          "metadata": {
            "tags": []
          },
          "execution_count": 75
        }
      ]
    },
    {
      "cell_type": "code",
      "metadata": {
        "id": "0yxU-wXqtp7L",
        "colab_type": "code",
        "colab": {}
      },
      "source": [
        "predicted_stock_price = regressor.predict(X_test)"
      ],
      "execution_count": 76,
      "outputs": []
    },
    {
      "cell_type": "code",
      "metadata": {
        "id": "mxDJ3RyY3wkU",
        "colab_type": "code",
        "colab": {}
      },
      "source": [
        "from sklearn.preprocessing import StandardScaler\n",
        "sc_predict = StandardScaler()\n",
        "sc_predict.fit_transform(real_stock_price)\n",
        "\n",
        "predicted_stock_price = sc_predict.inverse_transform(predicted_stock_price)\n"
      ],
      "execution_count": 78,
      "outputs": []
    },
    {
      "cell_type": "markdown",
      "metadata": {
        "id": "Cc2udBupwiOM",
        "colab_type": "text"
      },
      "source": [
        "# Visualize"
      ]
    },
    {
      "cell_type": "code",
      "metadata": {
        "id": "EHgbd0Utwd17",
        "colab_type": "code",
        "colab": {
          "base_uri": "https://localhost:8080/",
          "height": 295
        },
        "outputId": "f7cecfc0-1e37-48c3-bcc9-c0ee6126be59"
      },
      "source": [
        "plt.plot(real_stock_price, color='red', label='Real Apple stock price')\n",
        "plt.plot(predicted_stock_price, color='blue', label='Predicted Apple stock price')\n",
        "plt.title('Real vs Predicted (by RNN) stock trend comparison')\n",
        "plt.xlabel('Days')\n",
        "plt.ylabel('Price')\n",
        "plt.legend()\n",
        "plt.show()"
      ],
      "execution_count": 80,
      "outputs": [
        {
          "output_type": "display_data",
          "data": {
            "image/png": "[encoded data removed]",
            "text/plain": [
              "<Figure size 432x288 with 1 Axes>"
            ]
          },
          "metadata": {
            "tags": [],
            "needs_background": "light"
          }
        }
      ]
    }
  ]
}