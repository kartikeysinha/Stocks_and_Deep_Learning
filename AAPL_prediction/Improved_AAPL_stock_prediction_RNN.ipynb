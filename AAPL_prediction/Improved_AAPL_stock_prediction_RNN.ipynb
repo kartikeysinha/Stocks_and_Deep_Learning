{
  "nbformat": 4,
  "nbformat_minor": 0,
  "metadata": {
    "colab": {
      "name": "Improved_AAPL_stock_prediction_RNN.ipynb",
      "provenance": [],
      "collapsed_sections": [],
      "toc_visible": true
    },
    "kernelspec": {
      "name": "python3",
      "display_name": "Python 3"
    }
  },
  "cells": [
    {
      "cell_type": "markdown",
      "metadata": {
        "id": "37puETfgRzzg",
        "colab_type": "text"
      },
      "source": [
        "# Data Preprocessing"
      ]
    },
    {
      "cell_type": "markdown",
      "metadata": {
        "id": "EoRP98MpR-qj",
        "colab_type": "text"
      },
      "source": [
        "## Importing the libraries"
      ]
    },
    {
      "cell_type": "code",
      "metadata": {
        "id": "8UxKVijKwduh",
        "colab_type": "code",
        "colab": {}
      },
      "source": [
        "import numpy as np\n",
        "import pandas as pd\n",
        "import matplotlib.pyplot as plt"
      ],
      "execution_count": 1,
      "outputs": []
    },
    {
      "cell_type": "markdown",
      "metadata": {
        "id": "RopL7tUZSQkT",
        "colab_type": "text"
      },
      "source": [
        "## Importing the dataset"
      ]
    },
    {
      "cell_type": "markdown",
      "metadata": {
        "id": "bBOpDiAHwvws",
        "colab_type": "text"
      },
      "source": [
        "###Install yahoo finance library"
      ]
    },
    {
      "cell_type": "code",
      "metadata": {
        "id": "P3ldeUbbwlii",
        "colab_type": "code",
        "colab": {
          "base_uri": "https://localhost:8080/",
          "height": 241
        },
        "outputId": "a7803f00-ae51-4548-ec17-55b5c68e0a9a"
      },
      "source": [
        "!pip install yfinance"
      ],
      "execution_count": 2,
      "outputs": [
        {
          "output_type": "stream",
          "text": [
            "Requirement already satisfied: yfinance in /usr/local/lib/python3.6/dist-packages (0.1.54)\n",
            "Requirement already satisfied: pandas>=0.24 in /usr/local/lib/python3.6/dist-packages (from yfinance) (1.0.5)\n",
            "Requirement already satisfied: multitasking>=0.0.7 in /usr/local/lib/python3.6/dist-packages (from yfinance) (0.0.9)\n",
            "Requirement already satisfied: requests>=2.20 in /usr/local/lib/python3.6/dist-packages (from yfinance) (2.23.0)\n",
            "Requirement already satisfied: numpy>=1.15 in /usr/local/lib/python3.6/dist-packages (from yfinance) (1.18.5)\n",
            "Requirement already satisfied: pytz>=2017.2 in /usr/local/lib/python3.6/dist-packages (from pandas>=0.24->yfinance) (2018.9)\n",
            "Requirement already satisfied: python-dateutil>=2.6.1 in /usr/local/lib/python3.6/dist-packages (from pandas>=0.24->yfinance) (2.8.1)\n",
            "Requirement already satisfied: idna<3,>=2.5 in /usr/local/lib/python3.6/dist-packages (from requests>=2.20->yfinance) (2.10)\n",
            "Requirement already satisfied: chardet<4,>=3.0.2 in /usr/local/lib/python3.6/dist-packages (from requests>=2.20->yfinance) (3.0.4)\n",
            "Requirement already satisfied: certifi>=2017.4.17 in /usr/local/lib/python3.6/dist-packages (from requests>=2.20->yfinance) (2020.6.20)\n",
            "Requirement already satisfied: urllib3!=1.25.0,!=1.25.1,<1.26,>=1.21.1 in /usr/local/lib/python3.6/dist-packages (from requests>=2.20->yfinance) (1.24.3)\n",
            "Requirement already satisfied: six>=1.5 in /usr/local/lib/python3.6/dist-packages (from python-dateutil>=2.6.1->pandas>=0.24->yfinance) (1.15.0)\n"
          ],
          "name": "stdout"
        }
      ]
    },
    {
      "cell_type": "markdown",
      "metadata": {
        "id": "TewvgPjPxPou",
        "colab_type": "text"
      },
      "source": [
        "### Import dataset from yahoo finance"
      ]
    },
    {
      "cell_type": "code",
      "metadata": {
        "id": "JKy1V3ByxWGs",
        "colab_type": "code",
        "colab": {
          "base_uri": "https://localhost:8080/",
          "height": 34
        },
        "outputId": "2d22d089-f95e-41c2-f9d8-d96bcfe20416"
      },
      "source": [
        "import yfinance as yf\n",
        "dataset = yf.download('AAPL', start='2010-01-01', end='2020-01-01')"
      ],
      "execution_count": 3,
      "outputs": [
        {
          "output_type": "stream",
          "text": [
            "\r[*********************100%***********************]  1 of 1 completed\n"
          ],
          "name": "stdout"
        }
      ]
    },
    {
      "cell_type": "code",
      "metadata": {
        "id": "p-aM7AXcySMW",
        "colab_type": "code",
        "colab": {
          "base_uri": "https://localhost:8080/",
          "height": 235
        },
        "outputId": "fff823e0-da4e-4a31-ea11-c1909309e96b"
      },
      "source": [
        "dataset.head()"
      ],
      "execution_count": 4,
      "outputs": [
        {
          "output_type": "execute_result",
          "data": {
            "text/html": [
              "<div>\n",
              "<style scoped>\n",
              "    .dataframe tbody tr th:only-of-type {\n",
              "        vertical-align: middle;\n",
              "    }\n",
              "\n",
              "    .dataframe tbody tr th {\n",
              "        vertical-align: top;\n",
              "    }\n",
              "\n",
              "    .dataframe thead th {\n",
              "        text-align: right;\n",
              "    }\n",
              "</style>\n",
              "<table border=\"1\" class=\"dataframe\">\n",
              "  <thead>\n",
              "    <tr style=\"text-align: right;\">\n",
              "      <th></th>\n",
              "      <th>Open</th>\n",
              "      <th>High</th>\n",
              "      <th>Low</th>\n",
              "      <th>Close</th>\n",
              "      <th>Adj Close</th>\n",
              "      <th>Volume</th>\n",
              "    </tr>\n",
              "    <tr>\n",
              "      <th>Date</th>\n",
              "      <th></th>\n",
              "      <th></th>\n",
              "      <th></th>\n",
              "      <th></th>\n",
              "      <th></th>\n",
              "      <th></th>\n",
              "    </tr>\n",
              "  </thead>\n",
              "  <tbody>\n",
              "    <tr>\n",
              "      <th>2010-01-04</th>\n",
              "      <td>7.622500</td>\n",
              "      <td>7.660714</td>\n",
              "      <td>7.585000</td>\n",
              "      <td>7.643214</td>\n",
              "      <td>6.604801</td>\n",
              "      <td>493729600</td>\n",
              "    </tr>\n",
              "    <tr>\n",
              "      <th>2010-01-05</th>\n",
              "      <td>7.664286</td>\n",
              "      <td>7.699643</td>\n",
              "      <td>7.616071</td>\n",
              "      <td>7.656428</td>\n",
              "      <td>6.616219</td>\n",
              "      <td>601904800</td>\n",
              "    </tr>\n",
              "    <tr>\n",
              "      <th>2010-01-06</th>\n",
              "      <td>7.656428</td>\n",
              "      <td>7.686786</td>\n",
              "      <td>7.526786</td>\n",
              "      <td>7.534643</td>\n",
              "      <td>6.510980</td>\n",
              "      <td>552160000</td>\n",
              "    </tr>\n",
              "    <tr>\n",
              "      <th>2010-01-07</th>\n",
              "      <td>7.562500</td>\n",
              "      <td>7.571429</td>\n",
              "      <td>7.466072</td>\n",
              "      <td>7.520714</td>\n",
              "      <td>6.498945</td>\n",
              "      <td>477131200</td>\n",
              "    </tr>\n",
              "    <tr>\n",
              "      <th>2010-01-08</th>\n",
              "      <td>7.510714</td>\n",
              "      <td>7.571429</td>\n",
              "      <td>7.466429</td>\n",
              "      <td>7.570714</td>\n",
              "      <td>6.542150</td>\n",
              "      <td>447610800</td>\n",
              "    </tr>\n",
              "  </tbody>\n",
              "</table>\n",
              "</div>"
            ],
            "text/plain": [
              "                Open      High       Low     Close  Adj Close     Volume\n",
              "Date                                                                    \n",
              "2010-01-04  7.622500  7.660714  7.585000  7.643214   6.604801  493729600\n",
              "2010-01-05  7.664286  7.699643  7.616071  7.656428   6.616219  601904800\n",
              "2010-01-06  7.656428  7.686786  7.526786  7.534643   6.510980  552160000\n",
              "2010-01-07  7.562500  7.571429  7.466072  7.520714   6.498945  477131200\n",
              "2010-01-08  7.510714  7.571429  7.466429  7.570714   6.542150  447610800"
            ]
          },
          "metadata": {
            "tags": []
          },
          "execution_count": 4
        }
      ]
    },
    {
      "cell_type": "markdown",
      "metadata": {
        "id": "sm1DAlg-90G3",
        "colab_type": "text"
      },
      "source": [
        "## Checking for Missing values"
      ]
    },
    {
      "cell_type": "code",
      "metadata": {
        "id": "VncCR1c1zaR8",
        "colab_type": "code",
        "colab": {
          "base_uri": "https://localhost:8080/",
          "height": 647
        },
        "outputId": "fef6e7e8-c495-4158-a180-0b8d942a9210"
      },
      "source": [
        "import missingno as msno\n",
        "msno.matrix(dataset)\n",
        "print('Data columns with null value(s): ', dataset.isnull().sum(), sep='\\n')"
      ],
      "execution_count": 5,
      "outputs": [
        {
          "output_type": "stream",
          "text": [
            "/usr/local/lib/python3.6/dist-packages/statsmodels/tools/_testing.py:19: FutureWarning: pandas.util.testing is deprecated. Use the functions in the public API at pandas.testing instead.\n",
            "  import pandas.util.testing as tm\n"
          ],
          "name": "stderr"
        },
        {
          "output_type": "stream",
          "text": [
            "Data columns with null value(s): \n",
            "Open         0\n",
            "High         0\n",
            "Low          0\n",
            "Close        0\n",
            "Adj Close    0\n",
            "Volume       0\n",
            "dtype: int64\n"
          ],
          "name": "stdout"
        },
        {
          "output_type": "display_data",
          "data": {
            "image/png": "[encoded data removed]",
            "text/plain": [
              "<Figure size 1800x720 with 2 Axes>"
            ]
          },
          "metadata": {
            "tags": [],
            "needs_background": "light"
          }
        }
      ]
    },
    {
      "cell_type": "markdown",
      "metadata": {
        "id": "SscHICX80bsw",
        "colab_type": "text"
      },
      "source": [
        "## New product release"
      ]
    },
    {
      "cell_type": "code",
      "metadata": {
        "id": "cvnkG2n2KtpD",
        "colab_type": "code",
        "colab": {}
      },
      "source": [
        "def get_date(datetime):\n",
        "  return str(pd.to_datetime(datetime).date())"
      ],
      "execution_count": 6,
      "outputs": []
    },
    {
      "cell_type": "code",
      "metadata": {
        "id": "7HZqjI8TLOqZ",
        "colab_type": "code",
        "colab": {}
      },
      "source": [
        "dates = []\n",
        "for i in range(len(dataset.index)):\n",
        "  dates.append(get_date(dataset.index.values[i]))"
      ],
      "execution_count": 7,
      "outputs": []
    },
    {
      "cell_type": "code",
      "metadata": {
        "id": "c0dfdlyv0fMV",
        "colab_type": "code",
        "colab": {}
      },
      "source": [
        "new_product = np.zeros(len(dataset.axes[0]))\n",
        "\n",
        "# The below dates only include iPhone, iPad, and Apple Watch releases.\n",
        "# Source: https://en.wikipedia.org/wiki/Timeline_of_Apple_Inc._products\n",
        "new_product_release_dates = ['2010-04-03', '2010-04-30', '2010-06-24', '2010-09-01',\n",
        "                             '2011-02-10', '2011-03-11', '2011-10-14',\n",
        "                             '2012-03-16', '2012-09-21', '2012-11-02', '2012-11-16',\n",
        "                             '2013-09-20', '2013-11-01', '2013-11-12',\n",
        "                             '2014-11-18', '2014-09-19', '2014-10-22',\n",
        "                             '2015-04-24', '2015-09-09', '2015-09-25', '2015-11-11',\n",
        "                             '2016-03-31', '2016-09-07', '2016-09-07', '2016-09-16', '2016-10-28', '2016-12-19',\n",
        "                             '2017-03-21', '2017-03-24', '2017-06-05', '2017-09-22', '2017-11-03',\n",
        "                             '2018-03-27', '2018-09-21', '2018-10-26', '2018-10-30', '2018-11-07',\n",
        "                             '2019-03-18', '2019-03-20', '2019-09-20', '2019-09-25', '2019-12-10']\n",
        "\n",
        "new_product_release_data_in_2020 = ['2020-03-18', '2020-04-24']\n",
        "\n",
        "for i in range(0,len(dataset.axes[0])):\n",
        "  if dates[i] in new_product_release_dates:\n",
        "    new_product[i] = 1"
      ],
      "execution_count": 8,
      "outputs": []
    },
    {
      "cell_type": "code",
      "metadata": {
        "id": "fFl09cYk0PkC",
        "colab_type": "code",
        "colab": {}
      },
      "source": [
        "dataset['new product'] = new_product"
      ],
      "execution_count": 9,
      "outputs": []
    },
    {
      "cell_type": "code",
      "metadata": {
        "id": "NiukVL9VxTmW",
        "colab_type": "code",
        "colab": {
          "base_uri": "https://localhost:8080/",
          "height": 235
        },
        "outputId": "d73cc89e-0eb5-43a6-8ab2-37ec57bd4adc"
      },
      "source": [
        "dataset.head()"
      ],
      "execution_count": 10,
      "outputs": [
        {
          "output_type": "execute_result",
          "data": {
            "text/html": [
              "<div>\n",
              "<style scoped>\n",
              "    .dataframe tbody tr th:only-of-type {\n",
              "        vertical-align: middle;\n",
              "    }\n",
              "\n",
              "    .dataframe tbody tr th {\n",
              "        vertical-align: top;\n",
              "    }\n",
              "\n",
              "    .dataframe thead th {\n",
              "        text-align: right;\n",
              "    }\n",
              "</style>\n",
              "<table border=\"1\" class=\"dataframe\">\n",
              "  <thead>\n",
              "    <tr style=\"text-align: right;\">\n",
              "      <th></th>\n",
              "      <th>Open</th>\n",
              "      <th>High</th>\n",
              "      <th>Low</th>\n",
              "      <th>Close</th>\n",
              "      <th>Adj Close</th>\n",
              "      <th>Volume</th>\n",
              "      <th>new product</th>\n",
              "    </tr>\n",
              "    <tr>\n",
              "      <th>Date</th>\n",
              "      <th></th>\n",
              "      <th></th>\n",
              "      <th></th>\n",
              "      <th></th>\n",
              "      <th></th>\n",
              "      <th></th>\n",
              "      <th></th>\n",
              "    </tr>\n",
              "  </thead>\n",
              "  <tbody>\n",
              "    <tr>\n",
              "      <th>2010-01-04</th>\n",
              "      <td>7.622500</td>\n",
              "      <td>7.660714</td>\n",
              "      <td>7.585000</td>\n",
              "      <td>7.643214</td>\n",
              "      <td>6.604801</td>\n",
              "      <td>493729600</td>\n",
              "      <td>0.0</td>\n",
              "    </tr>\n",
              "    <tr>\n",
              "      <th>2010-01-05</th>\n",
              "      <td>7.664286</td>\n",
              "      <td>7.699643</td>\n",
              "      <td>7.616071</td>\n",
              "      <td>7.656428</td>\n",
              "      <td>6.616219</td>\n",
              "      <td>601904800</td>\n",
              "      <td>0.0</td>\n",
              "    </tr>\n",
              "    <tr>\n",
              "      <th>2010-01-06</th>\n",
              "      <td>7.656428</td>\n",
              "      <td>7.686786</td>\n",
              "      <td>7.526786</td>\n",
              "      <td>7.534643</td>\n",
              "      <td>6.510980</td>\n",
              "      <td>552160000</td>\n",
              "      <td>0.0</td>\n",
              "    </tr>\n",
              "    <tr>\n",
              "      <th>2010-01-07</th>\n",
              "      <td>7.562500</td>\n",
              "      <td>7.571429</td>\n",
              "      <td>7.466072</td>\n",
              "      <td>7.520714</td>\n",
              "      <td>6.498945</td>\n",
              "      <td>477131200</td>\n",
              "      <td>0.0</td>\n",
              "    </tr>\n",
              "    <tr>\n",
              "      <th>2010-01-08</th>\n",
              "      <td>7.510714</td>\n",
              "      <td>7.571429</td>\n",
              "      <td>7.466429</td>\n",
              "      <td>7.570714</td>\n",
              "      <td>6.542150</td>\n",
              "      <td>447610800</td>\n",
              "      <td>0.0</td>\n",
              "    </tr>\n",
              "  </tbody>\n",
              "</table>\n",
              "</div>"
            ],
            "text/plain": [
              "                Open      High       Low  ...  Adj Close     Volume  new product\n",
              "Date                                      ...                                   \n",
              "2010-01-04  7.622500  7.660714  7.585000  ...   6.604801  493729600          0.0\n",
              "2010-01-05  7.664286  7.699643  7.616071  ...   6.616219  601904800          0.0\n",
              "2010-01-06  7.656428  7.686786  7.526786  ...   6.510980  552160000          0.0\n",
              "2010-01-07  7.562500  7.571429  7.466072  ...   6.498945  477131200          0.0\n",
              "2010-01-08  7.510714  7.571429  7.466429  ...   6.542150  447610800          0.0\n",
              "\n",
              "[5 rows x 7 columns]"
            ]
          },
          "metadata": {
            "tags": []
          },
          "execution_count": 10
        }
      ]
    },
    {
      "cell_type": "markdown",
      "metadata": {
        "id": "IGIq6_Fm-PDS",
        "colab_type": "text"
      },
      "source": [
        "## Get training set"
      ]
    },
    {
      "cell_type": "code",
      "metadata": {
        "id": "Ou-JVbzt-d78",
        "colab_type": "code",
        "colab": {}
      },
      "source": [
        "training_set = dataset.iloc[:, [3,5,6]].values"
      ],
      "execution_count": 11,
      "outputs": []
    },
    {
      "cell_type": "code",
      "metadata": {
        "id": "SieJLZ-K0Tdp",
        "colab_type": "code",
        "colab": {
          "base_uri": "https://localhost:8080/",
          "height": 136
        },
        "outputId": "ffc18283-60ef-4133-db64-3ad096de62de"
      },
      "source": [
        "print(training_set)"
      ],
      "execution_count": 12,
      "outputs": [
        {
          "output_type": "stream",
          "text": [
            "[[7.64321423e+00 4.93729600e+08 0.00000000e+00]\n",
            " [7.65642834e+00 6.01904800e+08 0.00000000e+00]\n",
            " [7.53464270e+00 5.52160000e+08 0.00000000e+00]\n",
            " ...\n",
            " [7.24499969e+01 1.46266000e+08 0.00000000e+00]\n",
            " [7.28799973e+01 1.44114400e+08 0.00000000e+00]\n",
            " [7.34124985e+01 1.00805600e+08 0.00000000e+00]]\n"
          ],
          "name": "stdout"
        }
      ]
    },
    {
      "cell_type": "markdown",
      "metadata": {
        "id": "_Wq4Lw85Crpb",
        "colab_type": "text"
      },
      "source": [
        "## Feature Scaling"
      ]
    },
    {
      "cell_type": "code",
      "metadata": {
        "id": "9hkfQlKVCvrC",
        "colab_type": "code",
        "colab": {}
      },
      "source": [
        "from sklearn.preprocessing import MinMaxScaler\n",
        "sc = MinMaxScaler(feature_range = (0, 1))\n",
        "train_scaled = sc.fit_transform(training_set)"
      ],
      "execution_count": 13,
      "outputs": []
    },
    {
      "cell_type": "code",
      "metadata": {
        "id": "-EIBEwO40eKp",
        "colab_type": "code",
        "colab": {
          "base_uri": "https://localhost:8080/",
          "height": 136
        },
        "outputId": "3c5ce32f-609f-4dfe-8cb3-f53802f2c24a"
      },
      "source": [
        "print(train_scaled)"
      ],
      "execution_count": 14,
      "outputs": [
        {
          "output_type": "stream",
          "text": [
            "[[0.01178427 0.24422195 0.        ]\n",
            " [0.01198282 0.30315535 0.        ]\n",
            " [0.01015293 0.27605459 0.        ]\n",
            " ...\n",
            " [0.98553794 0.05492523 0.        ]\n",
            " [0.99199891 0.05375304 0.        ]\n",
            " [1.         0.03015859 0.        ]]\n"
          ],
          "name": "stdout"
        }
      ]
    },
    {
      "cell_type": "markdown",
      "metadata": {
        "id": "TpGqbS4TqkIR",
        "colab_type": "text"
      },
      "source": [
        "## Creating a data structure with 60 time steps and 1 output"
      ]
    },
    {
      "cell_type": "code",
      "metadata": {
        "id": "zbEr2MA1DSZK",
        "colab_type": "code",
        "colab": {}
      },
      "source": [
        "X_train = []\n",
        "y_train = []\n",
        "\n",
        "n_past = 100 #number of days in the past we want to take under consideration\n",
        "n_future = 1 #number of days we want to predict in the future\n",
        "\n",
        "for i in range(n_past, len(train_scaled) - n_future + 1):\n",
        "  X_train.append(train_scaled[i - n_past:i, :])\n",
        "  y_train.append(train_scaled[i + n_future - 1:i + n_future, 0])\n",
        "\n",
        "X_train, y_train = np.array(X_train), np.array(y_train)"
      ],
      "execution_count": 15,
      "outputs": []
    },
    {
      "cell_type": "markdown",
      "metadata": {
        "id": "TM9NoQbZEbJK",
        "colab_type": "text"
      },
      "source": [
        "# Build the RNN"
      ]
    },
    {
      "cell_type": "code",
      "metadata": {
        "id": "WXT-EKRhIufd",
        "colab_type": "code",
        "colab": {}
      },
      "source": [
        "from keras.models import Sequential\n",
        "from keras.layers import Dense, LSTM, Dropout"
      ],
      "execution_count": 16,
      "outputs": []
    },
    {
      "cell_type": "code",
      "metadata": {
        "id": "WvXmtFjsI4LO",
        "colab_type": "code",
        "colab": {}
      },
      "source": [
        "regressor = Sequential()"
      ],
      "execution_count": 17,
      "outputs": []
    },
    {
      "cell_type": "markdown",
      "metadata": {
        "id": "aAeh_2rfI9Mj",
        "colab_type": "text"
      },
      "source": [
        "## Add four LSTM layers and dropout regularisation"
      ]
    },
    {
      "cell_type": "code",
      "metadata": {
        "id": "t_CbUyPUJGVD",
        "colab_type": "code",
        "colab": {}
      },
      "source": [
        "regressor.add(LSTM(units = 50, return_sequences = True, input_shape = (X_train.shape[1], X_train.shape[2])))\n",
        "regressor.add(Dropout(0.2))"
      ],
      "execution_count": 18,
      "outputs": []
    },
    {
      "cell_type": "code",
      "metadata": {
        "id": "117WvmC6JeX-",
        "colab_type": "code",
        "colab": {}
      },
      "source": [
        "regressor.add(LSTM(units = 50, return_sequences = True))\n",
        "regressor.add(Dropout(0.2))"
      ],
      "execution_count": 19,
      "outputs": []
    },
    {
      "cell_type": "code",
      "metadata": {
        "id": "MZ8I_g0EJjqf",
        "colab_type": "code",
        "colab": {}
      },
      "source": [
        "regressor.add(LSTM(units = 50, return_sequences = True))\n",
        "regressor.add(Dropout(0.2))"
      ],
      "execution_count": 20,
      "outputs": []
    },
    {
      "cell_type": "code",
      "metadata": {
        "id": "ABYeEnozJj2j",
        "colab_type": "code",
        "colab": {}
      },
      "source": [
        "regressor.add(LSTM(units = 50, return_sequences = False))\n",
        "regressor.add(Dropout(0.2))"
      ],
      "execution_count": 21,
      "outputs": []
    },
    {
      "cell_type": "markdown",
      "metadata": {
        "id": "17FlRIdRJmms",
        "colab_type": "text"
      },
      "source": [
        "## Add the output layer"
      ]
    },
    {
      "cell_type": "code",
      "metadata": {
        "id": "XNUxnTi_JpSx",
        "colab_type": "code",
        "colab": {}
      },
      "source": [
        "regressor.add(Dense(units = 1))"
      ],
      "execution_count": 22,
      "outputs": []
    },
    {
      "cell_type": "markdown",
      "metadata": {
        "id": "SFg5h6KgJ1TP",
        "colab_type": "text"
      },
      "source": [
        "## Compiling the RNN"
      ]
    },
    {
      "cell_type": "code",
      "metadata": {
        "id": "k1loq-yuJ3bS",
        "colab_type": "code",
        "colab": {}
      },
      "source": [
        "regressor.compile(optimizer = 'adam', loss = 'mean_squared_error')"
      ],
      "execution_count": 23,
      "outputs": []
    },
    {
      "cell_type": "markdown",
      "metadata": {
        "id": "vTeEvCt8J-3H",
        "colab_type": "text"
      },
      "source": [
        "## Fitting RNN to training set"
      ]
    },
    {
      "cell_type": "code",
      "metadata": {
        "id": "qtf0eHNlT6fh",
        "colab_type": "code",
        "colab": {
          "base_uri": "https://localhost:8080/",
          "height": 1000
        },
        "outputId": "5158edd2-5526-467f-a490-3e506182b83a"
      },
      "source": [
        "from keras.callbacks import EarlyStopping, ReduceLROnPlateau, ModelCheckpoint, TensorBoard\n",
        "\n",
        "es = EarlyStopping(monitor='val_loss', min_delta=1e-10, patience=10, verbose=1)\n",
        "rlr = ReduceLROnPlateau(monitor='val_loss', factor=0.5, patience=5, verbose=1)\n",
        "mcp = ModelCheckpoint(filepath='weights.h5', monitor='val_loss', verbose=1, save_best_only=True, save_weights_only=True)\n",
        "tb = TensorBoard('logs')\n",
        "\n",
        "history = regressor.fit(X_train, y_train, shuffle=True,\n",
        "                        epochs=15, callbacks=[es, rlr,mcp, tb], validation_split=0.2, verbose=1, batch_size=64)"
      ],
      "execution_count": 24,
      "outputs": [
        {
          "output_type": "stream",
          "text": [
            "Epoch 1/15\n",
            " 1/31 [..............................] - ETA: 0s - loss: 0.0917WARNING:tensorflow:From /usr/local/lib/python3.6/dist-packages/tensorflow/python/ops/summary_ops_v2.py:1277: stop (from tensorflow.python.eager.profiler) is deprecated and will be removed after 2020-07-01.\n",
            "Instructions for updating:\n",
            "use `tf.profiler.experimental.stop` instead.\n",
            " 2/31 [>.............................] - ETA: 9s - loss: 0.0767WARNING:tensorflow:Callbacks method `on_train_batch_end` is slow compared to the batch time (batch time: 0.2710s vs `on_train_batch_end` time: 0.4087s). Check your callbacks.\n",
            "31/31 [==============================] - ETA: 0s - loss: 0.0132\n",
            "Epoch 00001: val_loss improved from inf to 0.00911, saving model to weights.h5\n",
            "31/31 [==============================] - 10s 307ms/step - loss: 0.0132 - val_loss: 0.0091\n",
            "Epoch 2/15\n",
            "31/31 [==============================] - ETA: 0s - loss: 0.0014\n",
            "Epoch 00002: val_loss improved from 0.00911 to 0.00582, saving model to weights.h5\n",
            "31/31 [==============================] - 8s 262ms/step - loss: 0.0014 - val_loss: 0.0058\n",
            "Epoch 3/15\n",
            "31/31 [==============================] - ETA: 0s - loss: 0.0011\n",
            "Epoch 00003: val_loss improved from 0.00582 to 0.00255, saving model to weights.h5\n",
            "31/31 [==============================] - 8s 261ms/step - loss: 0.0011 - val_loss: 0.0025\n",
            "Epoch 4/15\n",
            "31/31 [==============================] - ETA: 0s - loss: 0.0012\n",
            "Epoch 00004: val_loss did not improve from 0.00255\n",
            "31/31 [==============================] - 8s 260ms/step - loss: 0.0012 - val_loss: 0.0026\n",
            "Epoch 5/15\n",
            "31/31 [==============================] - ETA: 0s - loss: 0.0010\n",
            "Epoch 00005: val_loss improved from 0.00255 to 0.00231, saving model to weights.h5\n",
            "31/31 [==============================] - 8s 260ms/step - loss: 0.0010 - val_loss: 0.0023\n",
            "Epoch 6/15\n",
            "31/31 [==============================] - ETA: 0s - loss: 8.9362e-04\n",
            "Epoch 00006: val_loss did not improve from 0.00231\n",
            "31/31 [==============================] - 8s 263ms/step - loss: 8.9362e-04 - val_loss: 0.0029\n",
            "Epoch 7/15\n",
            "31/31 [==============================] - ETA: 0s - loss: 9.0857e-04\n",
            "Epoch 00007: val_loss did not improve from 0.00231\n",
            "31/31 [==============================] - 9s 297ms/step - loss: 9.0857e-04 - val_loss: 0.0024\n",
            "Epoch 8/15\n",
            "31/31 [==============================] - ETA: 0s - loss: 8.1940e-04\n",
            "Epoch 00008: val_loss improved from 0.00231 to 0.00215, saving model to weights.h5\n",
            "31/31 [==============================] - 8s 265ms/step - loss: 8.1940e-04 - val_loss: 0.0022\n",
            "Epoch 9/15\n",
            "31/31 [==============================] - ETA: 0s - loss: 8.3217e-04\n",
            "Epoch 00009: val_loss did not improve from 0.00215\n",
            "31/31 [==============================] - 10s 309ms/step - loss: 8.3217e-04 - val_loss: 0.0030\n",
            "Epoch 10/15\n",
            "31/31 [==============================] - ETA: 0s - loss: 7.8708e-04\n",
            "Epoch 00010: val_loss did not improve from 0.00215\n",
            "31/31 [==============================] - 9s 290ms/step - loss: 7.8708e-04 - val_loss: 0.0031\n",
            "Epoch 11/15\n",
            "31/31 [==============================] - ETA: 0s - loss: 7.6359e-04\n",
            "Epoch 00011: val_loss did not improve from 0.00215\n",
            "31/31 [==============================] - 9s 278ms/step - loss: 7.6359e-04 - val_loss: 0.0047\n",
            "Epoch 12/15\n",
            "31/31 [==============================] - ETA: 0s - loss: 7.3191e-04\n",
            "Epoch 00012: val_loss did not improve from 0.00215\n",
            "31/31 [==============================] - 8s 260ms/step - loss: 7.3191e-04 - val_loss: 0.0055\n",
            "Epoch 13/15\n",
            "31/31 [==============================] - ETA: 0s - loss: 7.0937e-04\n",
            "Epoch 00013: val_loss improved from 0.00215 to 0.00195, saving model to weights.h5\n",
            "31/31 [==============================] - 8s 262ms/step - loss: 7.0937e-04 - val_loss: 0.0020\n",
            "Epoch 14/15\n",
            "31/31 [==============================] - ETA: 0s - loss: 7.3595e-04\n",
            "Epoch 00014: val_loss did not improve from 0.00195\n",
            "31/31 [==============================] - 8s 260ms/step - loss: 7.3595e-04 - val_loss: 0.0032\n",
            "Epoch 15/15\n",
            "31/31 [==============================] - ETA: 0s - loss: 7.8351e-04\n",
            "Epoch 00015: val_loss did not improve from 0.00195\n",
            "31/31 [==============================] - 8s 261ms/step - loss: 7.8351e-04 - val_loss: 0.0021\n"
          ],
          "name": "stdout"
        }
      ]
    },
    {
      "cell_type": "markdown",
      "metadata": {
        "id": "vrwJTs29Y7_r",
        "colab_type": "text"
      },
      "source": [
        "# Making predictions"
      ]
    },
    {
      "cell_type": "markdown",
      "metadata": {
        "id": "1hHZZ6BNeMAf",
        "colab_type": "text"
      },
      "source": [
        "## Get real price"
      ]
    },
    {
      "cell_type": "code",
      "metadata": {
        "id": "_yDxgxHIbob2",
        "colab_type": "code",
        "colab": {
          "base_uri": "https://localhost:8080/",
          "height": 34
        },
        "outputId": "f4037fea-2268-4d1f-e2dc-7a6ea2ba76e1"
      },
      "source": [
        "dataset_test = yf.download('AAPL', start='2020-01-01', end='2020-07-01')\n",
        "real_stock_price = dataset_test.iloc[:, 1:2].values"
      ],
      "execution_count": 25,
      "outputs": [
        {
          "output_type": "stream",
          "text": [
            "\r[*********************100%***********************]  1 of 1 completed\n"
          ],
          "name": "stdout"
        }
      ]
    },
    {
      "cell_type": "code",
      "metadata": {
        "id": "WyS11DjIy0yF",
        "colab_type": "code",
        "colab": {
          "base_uri": "https://localhost:8080/",
          "height": 235
        },
        "outputId": "154a09c3-602b-42b8-86de-a18eef86204c"
      },
      "source": [
        "dataset_test.head()"
      ],
      "execution_count": 26,
      "outputs": [
        {
          "output_type": "execute_result",
          "data": {
            "text/html": [
              "<div>\n",
              "<style scoped>\n",
              "    .dataframe tbody tr th:only-of-type {\n",
              "        vertical-align: middle;\n",
              "    }\n",
              "\n",
              "    .dataframe tbody tr th {\n",
              "        vertical-align: top;\n",
              "    }\n",
              "\n",
              "    .dataframe thead th {\n",
              "        text-align: right;\n",
              "    }\n",
              "</style>\n",
              "<table border=\"1\" class=\"dataframe\">\n",
              "  <thead>\n",
              "    <tr style=\"text-align: right;\">\n",
              "      <th></th>\n",
              "      <th>Open</th>\n",
              "      <th>High</th>\n",
              "      <th>Low</th>\n",
              "      <th>Close</th>\n",
              "      <th>Adj Close</th>\n",
              "      <th>Volume</th>\n",
              "    </tr>\n",
              "    <tr>\n",
              "      <th>Date</th>\n",
              "      <th></th>\n",
              "      <th></th>\n",
              "      <th></th>\n",
              "      <th></th>\n",
              "      <th></th>\n",
              "      <th></th>\n",
              "    </tr>\n",
              "  </thead>\n",
              "  <tbody>\n",
              "    <tr>\n",
              "      <th>2020-01-02</th>\n",
              "      <td>74.059998</td>\n",
              "      <td>75.150002</td>\n",
              "      <td>73.797501</td>\n",
              "      <td>75.087502</td>\n",
              "      <td>74.573036</td>\n",
              "      <td>135480400</td>\n",
              "    </tr>\n",
              "    <tr>\n",
              "      <th>2020-01-03</th>\n",
              "      <td>74.287498</td>\n",
              "      <td>75.144997</td>\n",
              "      <td>74.125000</td>\n",
              "      <td>74.357498</td>\n",
              "      <td>73.848030</td>\n",
              "      <td>146322800</td>\n",
              "    </tr>\n",
              "    <tr>\n",
              "      <th>2020-01-06</th>\n",
              "      <td>73.447502</td>\n",
              "      <td>74.989998</td>\n",
              "      <td>73.187500</td>\n",
              "      <td>74.949997</td>\n",
              "      <td>74.436470</td>\n",
              "      <td>118387200</td>\n",
              "    </tr>\n",
              "    <tr>\n",
              "      <th>2020-01-07</th>\n",
              "      <td>74.959999</td>\n",
              "      <td>75.224998</td>\n",
              "      <td>74.370003</td>\n",
              "      <td>74.597504</td>\n",
              "      <td>74.086395</td>\n",
              "      <td>108872000</td>\n",
              "    </tr>\n",
              "    <tr>\n",
              "      <th>2020-01-08</th>\n",
              "      <td>74.290001</td>\n",
              "      <td>76.110001</td>\n",
              "      <td>74.290001</td>\n",
              "      <td>75.797501</td>\n",
              "      <td>75.278160</td>\n",
              "      <td>132079200</td>\n",
              "    </tr>\n",
              "  </tbody>\n",
              "</table>\n",
              "</div>"
            ],
            "text/plain": [
              "                 Open       High        Low      Close  Adj Close     Volume\n",
              "Date                                                                        \n",
              "2020-01-02  74.059998  75.150002  73.797501  75.087502  74.573036  135480400\n",
              "2020-01-03  74.287498  75.144997  74.125000  74.357498  73.848030  146322800\n",
              "2020-01-06  73.447502  74.989998  73.187500  74.949997  74.436470  118387200\n",
              "2020-01-07  74.959999  75.224998  74.370003  74.597504  74.086395  108872000\n",
              "2020-01-08  74.290001  76.110001  74.290001  75.797501  75.278160  132079200"
            ]
          },
          "metadata": {
            "tags": []
          },
          "execution_count": 26
        }
      ]
    },
    {
      "cell_type": "markdown",
      "metadata": {
        "id": "lskI24RchddQ",
        "colab_type": "text"
      },
      "source": [
        "## Add new product release date to real price"
      ]
    },
    {
      "cell_type": "code",
      "metadata": {
        "id": "vmze5E0hBk1f",
        "colab_type": "code",
        "colab": {}
      },
      "source": [
        "dates_2020 = []\n",
        "for i in range(len(dataset_test.index)):\n",
        "  dates_2020.append(get_date(dataset_test.index.values[i]))"
      ],
      "execution_count": 27,
      "outputs": []
    },
    {
      "cell_type": "code",
      "metadata": {
        "id": "lzwciz2Vhcd3",
        "colab_type": "code",
        "colab": {}
      },
      "source": [
        "new_product_2020 = np.zeros(len(dataset_test))\n",
        "for i in range(0,len(dataset_test.axes[0])):\n",
        "  if dates_2020[i] in new_product_release_data_in_2020:\n",
        "    new_product_2020[i] = 1"
      ],
      "execution_count": 28,
      "outputs": []
    },
    {
      "cell_type": "code",
      "metadata": {
        "id": "njNSDXM2io2s",
        "colab_type": "code",
        "colab": {}
      },
      "source": [
        "dataset_test['new product'] = new_product_2020"
      ],
      "execution_count": 29,
      "outputs": []
    },
    {
      "cell_type": "code",
      "metadata": {
        "id": "p_gnFW7wzaDn",
        "colab_type": "code",
        "colab": {
          "base_uri": "https://localhost:8080/",
          "height": 235
        },
        "outputId": "6689f1f1-0872-4609-e104-360cb45b402a"
      },
      "source": [
        "dataset_test.head()"
      ],
      "execution_count": 30,
      "outputs": [
        {
          "output_type": "execute_result",
          "data": {
            "text/html": [
              "<div>\n",
              "<style scoped>\n",
              "    .dataframe tbody tr th:only-of-type {\n",
              "        vertical-align: middle;\n",
              "    }\n",
              "\n",
              "    .dataframe tbody tr th {\n",
              "        vertical-align: top;\n",
              "    }\n",
              "\n",
              "    .dataframe thead th {\n",
              "        text-align: right;\n",
              "    }\n",
              "</style>\n",
              "<table border=\"1\" class=\"dataframe\">\n",
              "  <thead>\n",
              "    <tr style=\"text-align: right;\">\n",
              "      <th></th>\n",
              "      <th>Open</th>\n",
              "      <th>High</th>\n",
              "      <th>Low</th>\n",
              "      <th>Close</th>\n",
              "      <th>Adj Close</th>\n",
              "      <th>Volume</th>\n",
              "      <th>new product</th>\n",
              "    </tr>\n",
              "    <tr>\n",
              "      <th>Date</th>\n",
              "      <th></th>\n",
              "      <th></th>\n",
              "      <th></th>\n",
              "      <th></th>\n",
              "      <th></th>\n",
              "      <th></th>\n",
              "      <th></th>\n",
              "    </tr>\n",
              "  </thead>\n",
              "  <tbody>\n",
              "    <tr>\n",
              "      <th>2020-01-02</th>\n",
              "      <td>74.059998</td>\n",
              "      <td>75.150002</td>\n",
              "      <td>73.797501</td>\n",
              "      <td>75.087502</td>\n",
              "      <td>74.573036</td>\n",
              "      <td>135480400</td>\n",
              "      <td>0.0</td>\n",
              "    </tr>\n",
              "    <tr>\n",
              "      <th>2020-01-03</th>\n",
              "      <td>74.287498</td>\n",
              "      <td>75.144997</td>\n",
              "      <td>74.125000</td>\n",
              "      <td>74.357498</td>\n",
              "      <td>73.848030</td>\n",
              "      <td>146322800</td>\n",
              "      <td>0.0</td>\n",
              "    </tr>\n",
              "    <tr>\n",
              "      <th>2020-01-06</th>\n",
              "      <td>73.447502</td>\n",
              "      <td>74.989998</td>\n",
              "      <td>73.187500</td>\n",
              "      <td>74.949997</td>\n",
              "      <td>74.436470</td>\n",
              "      <td>118387200</td>\n",
              "      <td>0.0</td>\n",
              "    </tr>\n",
              "    <tr>\n",
              "      <th>2020-01-07</th>\n",
              "      <td>74.959999</td>\n",
              "      <td>75.224998</td>\n",
              "      <td>74.370003</td>\n",
              "      <td>74.597504</td>\n",
              "      <td>74.086395</td>\n",
              "      <td>108872000</td>\n",
              "      <td>0.0</td>\n",
              "    </tr>\n",
              "    <tr>\n",
              "      <th>2020-01-08</th>\n",
              "      <td>74.290001</td>\n",
              "      <td>76.110001</td>\n",
              "      <td>74.290001</td>\n",
              "      <td>75.797501</td>\n",
              "      <td>75.278160</td>\n",
              "      <td>132079200</td>\n",
              "      <td>0.0</td>\n",
              "    </tr>\n",
              "  </tbody>\n",
              "</table>\n",
              "</div>"
            ],
            "text/plain": [
              "                 Open       High        Low  ...  Adj Close     Volume  new product\n",
              "Date                                         ...                                   \n",
              "2020-01-02  74.059998  75.150002  73.797501  ...  74.573036  135480400          0.0\n",
              "2020-01-03  74.287498  75.144997  74.125000  ...  73.848030  146322800          0.0\n",
              "2020-01-06  73.447502  74.989998  73.187500  ...  74.436470  118387200          0.0\n",
              "2020-01-07  74.959999  75.224998  74.370003  ...  74.086395  108872000          0.0\n",
              "2020-01-08  74.290001  76.110001  74.290001  ...  75.278160  132079200          0.0\n",
              "\n",
              "[5 rows x 7 columns]"
            ]
          },
          "metadata": {
            "tags": []
          },
          "execution_count": 30
        }
      ]
    },
    {
      "cell_type": "markdown",
      "metadata": {
        "id": "ZnSBu3QJevM2",
        "colab_type": "text"
      },
      "source": [
        "## Get predicted price"
      ]
    },
    {
      "cell_type": "code",
      "metadata": {
        "id": "v6pSTQN6NFNt",
        "colab_type": "code",
        "colab": {}
      },
      "source": [
        "dataset_total = pd.concat((dataset, dataset_test), axis = 0)"
      ],
      "execution_count": 31,
      "outputs": []
    },
    {
      "cell_type": "code",
      "metadata": {
        "id": "61KbeIAdNLHq",
        "colab_type": "code",
        "colab": {}
      },
      "source": [
        "combined_data = dataset_total[['Adj Close', 'Volume', 'new product']]"
      ],
      "execution_count": 32,
      "outputs": []
    },
    {
      "cell_type": "code",
      "metadata": {
        "id": "fLyly8FNjOjC",
        "colab_type": "code",
        "colab": {}
      },
      "source": [
        "inputs = combined_data.iloc[(len(combined_data) - len(dataset_test) - n_past):].values\n",
        "inputs = sc.transform(inputs)"
      ],
      "execution_count": 33,
      "outputs": []
    },
    {
      "cell_type": "code",
      "metadata": {
        "id": "EUkhGlRbhELd",
        "colab_type": "code",
        "colab": {
          "base_uri": "https://localhost:8080/",
          "height": 34
        },
        "outputId": "3e164346-acf2-442f-dd0a-9416258c3321"
      },
      "source": [
        "X_test = []\n",
        "for i in range(n_past, n_past + len(dataset_test)):\n",
        "  X_test.append(inputs[i - n_past:i, :])\n",
        "\n",
        "X_test = np.array(X_test)\n",
        "type(X_test)\n",
        "X_test.shape\n",
        "#X_test = np.asarray(X_test).astype(np.float32)\n"
      ],
      "execution_count": 36,
      "outputs": [
        {
          "output_type": "execute_result",
          "data": {
            "text/plain": [
              "(125, 100, 3)"
            ]
          },
          "metadata": {
            "tags": []
          },
          "execution_count": 36
        }
      ]
    },
    {
      "cell_type": "code",
      "metadata": {
        "id": "0yxU-wXqtp7L",
        "colab_type": "code",
        "colab": {}
      },
      "source": [
        "predicted_stock_price = regressor.predict(X_test)"
      ],
      "execution_count": 37,
      "outputs": []
    },
    {
      "cell_type": "code",
      "metadata": {
        "id": "mxDJ3RyY3wkU",
        "colab_type": "code",
        "colab": {}
      },
      "source": [
        "from sklearn.preprocessing import StandardScaler\n",
        "sc_predict = StandardScaler()\n",
        "sc_predict.fit_transform(real_stock_price)\n",
        "\n",
        "predicted_stock_price = sc_predict.inverse_transform(predicted_stock_price)\n"
      ],
      "execution_count": 38,
      "outputs": []
    },
    {
      "cell_type": "markdown",
      "metadata": {
        "id": "Cc2udBupwiOM",
        "colab_type": "text"
      },
      "source": [
        "# Visualize"
      ]
    },
    {
      "cell_type": "code",
      "metadata": {
        "id": "EHgbd0Utwd17",
        "colab_type": "code",
        "colab": {
          "base_uri": "https://localhost:8080/",
          "height": 295
        },
        "outputId": "cd223c2f-dd91-438f-fb4e-7074726e5ca4"
      },
      "source": [
        "plt.plot(real_stock_price, color='red', label='Real Apple stock price')\n",
        "plt.plot(predicted_stock_price, color='blue', label='Predicted Apple stock price')\n",
        "plt.title('Real vs Predicted (by RNN) stock trend comparison')\n",
        "plt.xlabel('Days')\n",
        "plt.ylabel('Price')\n",
        "plt.legend()\n",
        "plt.show()"
      ],
      "execution_count": 39,
      "outputs": [
        {
          "output_type": "display_data",
          "data": {
            "image/png": "[encoded data removed]",
            "text/plain": [
              "<Figure size 432x288 with 1 Axes>"
            ]
          },
          "metadata": {
            "tags": [],
            "needs_background": "light"
          }
        }
      ]
    }
  ]
}